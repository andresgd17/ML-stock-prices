{
 "cells": [
  {
   "cell_type": "code",
   "execution_count": 1,
   "metadata": {},
   "outputs": [],
   "source": [
    "import numpy as np\n",
    "import matplotlib.pyplot as plt\n",
    "import pandas as pd"
   ]
  },
  {
   "cell_type": "code",
   "execution_count": 2,
   "metadata": {},
   "outputs": [],
   "source": [
    "url = 'https://raw.githubusercontent.com/mwitiderrick/stockprice/master/NSE-TATAGLOBAL.csv'"
   ]
  },
  {
   "cell_type": "code",
   "execution_count": 3,
   "metadata": {},
   "outputs": [],
   "source": [
    "dataset_train = pd.read_csv(url)"
   ]
  },
  {
   "cell_type": "code",
   "execution_count": 6,
   "metadata": {},
   "outputs": [
    {
     "data": {
      "text/html": [
       "<div>\n",
       "<style scoped>\n",
       "    .dataframe tbody tr th:only-of-type {\n",
       "        vertical-align: middle;\n",
       "    }\n",
       "\n",
       "    .dataframe tbody tr th {\n",
       "        vertical-align: top;\n",
       "    }\n",
       "\n",
       "    .dataframe thead th {\n",
       "        text-align: right;\n",
       "    }\n",
       "</style>\n",
       "<table border=\"1\" class=\"dataframe\">\n",
       "  <thead>\n",
       "    <tr style=\"text-align: right;\">\n",
       "      <th></th>\n",
       "      <th>Date</th>\n",
       "      <th>Open</th>\n",
       "      <th>High</th>\n",
       "      <th>Low</th>\n",
       "      <th>Last</th>\n",
       "      <th>Close</th>\n",
       "      <th>Total Trade Quantity</th>\n",
       "      <th>Turnover (Lacs)</th>\n",
       "    </tr>\n",
       "  </thead>\n",
       "  <tbody>\n",
       "    <tr>\n",
       "      <th>0</th>\n",
       "      <td>2018-09-28</td>\n",
       "      <td>234.05</td>\n",
       "      <td>235.95</td>\n",
       "      <td>230.20</td>\n",
       "      <td>233.50</td>\n",
       "      <td>233.75</td>\n",
       "      <td>3069914</td>\n",
       "      <td>7162.35</td>\n",
       "    </tr>\n",
       "    <tr>\n",
       "      <th>1</th>\n",
       "      <td>2018-09-27</td>\n",
       "      <td>234.55</td>\n",
       "      <td>236.80</td>\n",
       "      <td>231.10</td>\n",
       "      <td>233.80</td>\n",
       "      <td>233.25</td>\n",
       "      <td>5082859</td>\n",
       "      <td>11859.95</td>\n",
       "    </tr>\n",
       "    <tr>\n",
       "      <th>2</th>\n",
       "      <td>2018-09-26</td>\n",
       "      <td>240.00</td>\n",
       "      <td>240.00</td>\n",
       "      <td>232.50</td>\n",
       "      <td>235.00</td>\n",
       "      <td>234.25</td>\n",
       "      <td>2240909</td>\n",
       "      <td>5248.60</td>\n",
       "    </tr>\n",
       "    <tr>\n",
       "      <th>3</th>\n",
       "      <td>2018-09-25</td>\n",
       "      <td>233.30</td>\n",
       "      <td>236.75</td>\n",
       "      <td>232.00</td>\n",
       "      <td>236.25</td>\n",
       "      <td>236.10</td>\n",
       "      <td>2349368</td>\n",
       "      <td>5503.90</td>\n",
       "    </tr>\n",
       "    <tr>\n",
       "      <th>4</th>\n",
       "      <td>2018-09-24</td>\n",
       "      <td>233.55</td>\n",
       "      <td>239.20</td>\n",
       "      <td>230.75</td>\n",
       "      <td>234.00</td>\n",
       "      <td>233.30</td>\n",
       "      <td>3423509</td>\n",
       "      <td>7999.55</td>\n",
       "    </tr>\n",
       "  </tbody>\n",
       "</table>\n",
       "</div>"
      ],
      "text/plain": [
       "         Date    Open    High     Low    Last   Close  Total Trade Quantity  \\\n",
       "0  2018-09-28  234.05  235.95  230.20  233.50  233.75               3069914   \n",
       "1  2018-09-27  234.55  236.80  231.10  233.80  233.25               5082859   \n",
       "2  2018-09-26  240.00  240.00  232.50  235.00  234.25               2240909   \n",
       "3  2018-09-25  233.30  236.75  232.00  236.25  236.10               2349368   \n",
       "4  2018-09-24  233.55  239.20  230.75  234.00  233.30               3423509   \n",
       "\n",
       "   Turnover (Lacs)  \n",
       "0          7162.35  \n",
       "1         11859.95  \n",
       "2          5248.60  \n",
       "3          5503.90  \n",
       "4          7999.55  "
      ]
     },
     "execution_count": 6,
     "metadata": {},
     "output_type": "execute_result"
    }
   ],
   "source": [
    "dataset_train.head()"
   ]
  },
  {
   "cell_type": "code",
   "execution_count": 17,
   "metadata": {},
   "outputs": [],
   "source": [
    "training_set = dataset_train.iloc[:, 1:2].values"
   ]
  },
  {
   "cell_type": "code",
   "execution_count": 20,
   "metadata": {},
   "outputs": [],
   "source": [
    "from sklearn.preprocessing import MinMaxScaler\n",
    "sc = MinMaxScaler(feature_range=(0,1))"
   ]
  },
  {
   "cell_type": "code",
   "execution_count": 21,
   "metadata": {},
   "outputs": [],
   "source": [
    "training_set_scaled = sc.fit_transform(training_set)"
   ]
  },
  {
   "cell_type": "code",
   "execution_count": 40,
   "metadata": {},
   "outputs": [
    {
     "name": "stdout",
     "output_type": "stream",
     "text": [
      "(1975, 60) (1975,)\n"
     ]
    }
   ],
   "source": [
    "X_train = []\n",
    "y_train = []\n",
    "for i in range(60, 2035):\n",
    "    X_train.append(training_set_scaled[i-60:i, 0])\n",
    "    y_train.append(training_set_scaled[i, 0])\n",
    "X_train, y_train = np.array(X_train), np.array(y_train)\n",
    "print(X_train.shape, y_train.shape)\n",
    "X_train = np.reshape(X_train, (X_train.shape[0], X_train.shape[1], 1))"
   ]
  },
  {
   "cell_type": "code",
   "execution_count": 43,
   "metadata": {},
   "outputs": [
    {
     "data": {
      "text/plain": [
       "((1975, 60, 1), (1975,))"
      ]
     },
     "execution_count": 43,
     "metadata": {},
     "output_type": "execute_result"
    }
   ],
   "source": [
    "X_train.shape, y_train.shape"
   ]
  },
  {
   "cell_type": "code",
   "execution_count": 55,
   "metadata": {},
   "outputs": [
    {
     "name": "stderr",
     "output_type": "stream",
     "text": [
      "2023-01-27 03:10:52.005347: I tensorflow/core/platform/cpu_feature_guard.cc:193] This TensorFlow binary is optimized with oneAPI Deep Neural Network Library (oneDNN) to use the following CPU instructions in performance-critical operations:  AVX2 AVX512F FMA\n",
      "To enable them in other operations, rebuild TensorFlow with the appropriate compiler flags.\n",
      "2023-01-27 03:10:55.536337: W tensorflow/compiler/xla/stream_executor/platform/default/dso_loader.cc:64] Could not load dynamic library 'libcudart.so.11.0'; dlerror: libcudart.so.11.0: cannot open shared object file: No such file or directory\n",
      "2023-01-27 03:10:55.536379: I tensorflow/compiler/xla/stream_executor/cuda/cudart_stub.cc:29] Ignore above cudart dlerror if you do not have a GPU set up on your machine.\n",
      "2023-01-27 03:11:00.657993: W tensorflow/compiler/xla/stream_executor/platform/default/dso_loader.cc:64] Could not load dynamic library 'libnvinfer.so.7'; dlerror: libnvinfer.so.7: cannot open shared object file: No such file or directory\n",
      "2023-01-27 03:11:00.658209: W tensorflow/compiler/xla/stream_executor/platform/default/dso_loader.cc:64] Could not load dynamic library 'libnvinfer_plugin.so.7'; dlerror: libnvinfer_plugin.so.7: cannot open shared object file: No such file or directory\n",
      "2023-01-27 03:11:00.658224: W tensorflow/compiler/tf2tensorrt/utils/py_utils.cc:38] TF-TRT Warning: Cannot dlopen some TensorRT libraries. If you would like to use Nvidia GPU with TensorRT, please make sure the missing libraries mentioned above are installed properly.\n"
     ]
    }
   ],
   "source": [
    "from keras.models import Sequential\n",
    "from keras.layers import LSTM\n",
    "from keras.layers import Dropout\n",
    "from keras.layers import Dense"
   ]
  },
  {
   "cell_type": "code",
   "execution_count": 56,
   "metadata": {},
   "outputs": [
    {
     "name": "stderr",
     "output_type": "stream",
     "text": [
      "2023-01-27 03:11:57.729017: W tensorflow/compiler/xla/stream_executor/platform/default/dso_loader.cc:64] Could not load dynamic library 'libcuda.so.1'; dlerror: libcuda.so.1: cannot open shared object file: No such file or directory\n",
      "2023-01-27 03:11:57.740628: W tensorflow/compiler/xla/stream_executor/cuda/cuda_driver.cc:265] failed call to cuInit: UNKNOWN ERROR (303)\n",
      "2023-01-27 03:11:57.740681: I tensorflow/compiler/xla/stream_executor/cuda/cuda_diagnostics.cc:156] kernel driver does not appear to be running on this host (codespaces-2686da): /proc/driver/nvidia/version does not exist\n",
      "2023-01-27 03:11:57.741544: I tensorflow/core/platform/cpu_feature_guard.cc:193] This TensorFlow binary is optimized with oneAPI Deep Neural Network Library (oneDNN) to use the following CPU instructions in performance-critical operations:  AVX2 AVX512F FMA\n",
      "To enable them in other operations, rebuild TensorFlow with the appropriate compiler flags.\n"
     ]
    },
    {
     "name": "stdout",
     "output_type": "stream",
     "text": [
      "Epoch 1/100\n",
      "62/62 [==============================] - 14s 93ms/step - loss: 0.0102\n",
      "Epoch 2/100\n",
      "62/62 [==============================] - 6s 101ms/step - loss: 0.0032\n",
      "Epoch 3/100\n",
      "62/62 [==============================] - 6s 101ms/step - loss: 0.0026\n",
      "Epoch 4/100\n",
      "62/62 [==============================] - 6s 102ms/step - loss: 0.0028\n",
      "Epoch 5/100\n",
      "62/62 [==============================] - 7s 116ms/step - loss: 0.0025\n",
      "Epoch 6/100\n",
      "62/62 [==============================] - 6s 104ms/step - loss: 0.0021\n",
      "Epoch 7/100\n",
      "62/62 [==============================] - 6s 101ms/step - loss: 0.0026\n",
      "Epoch 8/100\n",
      "62/62 [==============================] - 7s 106ms/step - loss: 0.0020\n",
      "Epoch 9/100\n",
      "62/62 [==============================] - 6s 103ms/step - loss: 0.0020\n",
      "Epoch 10/100\n",
      "62/62 [==============================] - 7s 107ms/step - loss: 0.0019\n",
      "Epoch 11/100\n",
      "62/62 [==============================] - 7s 109ms/step - loss: 0.0018\n",
      "Epoch 12/100\n",
      "62/62 [==============================] - 6s 104ms/step - loss: 0.0018\n",
      "Epoch 13/100\n",
      "62/62 [==============================] - 7s 110ms/step - loss: 0.0016\n",
      "Epoch 14/100\n",
      "62/62 [==============================] - 7s 107ms/step - loss: 0.0017\n",
      "Epoch 15/100\n",
      "62/62 [==============================] - 7s 106ms/step - loss: 0.0016\n",
      "Epoch 16/100\n",
      "62/62 [==============================] - 7s 113ms/step - loss: 0.0016\n",
      "Epoch 17/100\n",
      "62/62 [==============================] - 7s 109ms/step - loss: 0.0014\n",
      "Epoch 18/100\n",
      "62/62 [==============================] - 7s 106ms/step - loss: 0.0016\n",
      "Epoch 19/100\n",
      "62/62 [==============================] - 7s 111ms/step - loss: 0.0016\n",
      "Epoch 20/100\n",
      "62/62 [==============================] - 7s 108ms/step - loss: 0.0014\n",
      "Epoch 21/100\n",
      "62/62 [==============================] - 7s 113ms/step - loss: 0.0012\n",
      "Epoch 22/100\n",
      "62/62 [==============================] - 7s 120ms/step - loss: 0.0014\n",
      "Epoch 23/100\n",
      "62/62 [==============================] - 7s 114ms/step - loss: 0.0012\n",
      "Epoch 24/100\n",
      "62/62 [==============================] - 7s 113ms/step - loss: 0.0013\n",
      "Epoch 25/100\n",
      "62/62 [==============================] - 7s 121ms/step - loss: 0.0012\n",
      "Epoch 26/100\n",
      "62/62 [==============================] - 7s 115ms/step - loss: 0.0012\n",
      "Epoch 27/100\n",
      "62/62 [==============================] - 7s 111ms/step - loss: 0.0013\n",
      "Epoch 28/100\n",
      "62/62 [==============================] - 7s 119ms/step - loss: 0.0014\n",
      "Epoch 29/100\n",
      "62/62 [==============================] - 7s 115ms/step - loss: 0.0012\n",
      "Epoch 30/100\n",
      "62/62 [==============================] - 7s 110ms/step - loss: 0.0012\n",
      "Epoch 31/100\n",
      "62/62 [==============================] - 7s 116ms/step - loss: 0.0011\n",
      "Epoch 32/100\n",
      "62/62 [==============================] - 7s 113ms/step - loss: 0.0011\n",
      "Epoch 33/100\n",
      "62/62 [==============================] - 7s 111ms/step - loss: 0.0011\n",
      "Epoch 34/100\n",
      "62/62 [==============================] - 7s 118ms/step - loss: 0.0011\n",
      "Epoch 35/100\n",
      "62/62 [==============================] - 7s 114ms/step - loss: 0.0011\n",
      "Epoch 36/100\n",
      "62/62 [==============================] - 7s 112ms/step - loss: 9.5747e-04\n",
      "Epoch 37/100\n",
      "62/62 [==============================] - 8s 119ms/step - loss: 0.0011\n",
      "Epoch 38/100\n",
      "62/62 [==============================] - 7s 117ms/step - loss: 9.7658e-04\n",
      "Epoch 39/100\n",
      "62/62 [==============================] - 7s 112ms/step - loss: 0.0011\n",
      "Epoch 40/100\n",
      "62/62 [==============================] - 7s 114ms/step - loss: 9.0430e-04\n",
      "Epoch 41/100\n",
      "62/62 [==============================] - 7s 111ms/step - loss: 8.3485e-04\n",
      "Epoch 42/100\n",
      "62/62 [==============================] - 7s 108ms/step - loss: 0.0011\n",
      "Epoch 43/100\n",
      "62/62 [==============================] - 7s 115ms/step - loss: 0.0010\n",
      "Epoch 44/100\n",
      "62/62 [==============================] - 7s 108ms/step - loss: 9.2185e-04\n",
      "Epoch 45/100\n",
      "62/62 [==============================] - 7s 113ms/step - loss: 8.8153e-04\n",
      "Epoch 46/100\n",
      "62/62 [==============================] - 7s 110ms/step - loss: 8.7138e-04\n",
      "Epoch 47/100\n",
      "62/62 [==============================] - 8s 125ms/step - loss: 8.5675e-04\n",
      "Epoch 48/100\n",
      "62/62 [==============================] - 8s 135ms/step - loss: 8.5267e-04\n",
      "Epoch 49/100\n",
      "62/62 [==============================] - 7s 120ms/step - loss: 8.3689e-04\n",
      "Epoch 50/100\n",
      "62/62 [==============================] - 8s 125ms/step - loss: 9.5429e-04\n",
      "Epoch 51/100\n",
      "62/62 [==============================] - 8s 125ms/step - loss: 8.6750e-04\n",
      "Epoch 52/100\n",
      "62/62 [==============================] - 7s 115ms/step - loss: 8.5543e-04\n",
      "Epoch 53/100\n",
      "62/62 [==============================] - 7s 109ms/step - loss: 9.5199e-04\n",
      "Epoch 54/100\n",
      "62/62 [==============================] - 7s 111ms/step - loss: 7.1980e-04\n",
      "Epoch 55/100\n",
      "62/62 [==============================] - 7s 111ms/step - loss: 8.4857e-04\n",
      "Epoch 56/100\n",
      "62/62 [==============================] - 7s 112ms/step - loss: 8.3042e-04\n",
      "Epoch 57/100\n",
      "62/62 [==============================] - 7s 111ms/step - loss: 7.5317e-04\n",
      "Epoch 58/100\n",
      "62/62 [==============================] - 7s 111ms/step - loss: 8.9143e-04\n",
      "Epoch 59/100\n",
      "62/62 [==============================] - 7s 110ms/step - loss: 8.3305e-04\n",
      "Epoch 60/100\n",
      "62/62 [==============================] - 7s 112ms/step - loss: 7.5836e-04\n",
      "Epoch 61/100\n",
      "62/62 [==============================] - 8s 125ms/step - loss: 8.0921e-04\n",
      "Epoch 62/100\n",
      "62/62 [==============================] - 7s 119ms/step - loss: 8.8067e-04\n",
      "Epoch 63/100\n",
      "62/62 [==============================] - 7s 120ms/step - loss: 7.4651e-04\n",
      "Epoch 64/100\n",
      "62/62 [==============================] - 7s 113ms/step - loss: 7.9201e-04\n",
      "Epoch 65/100\n",
      "62/62 [==============================] - 7s 106ms/step - loss: 9.3663e-04\n",
      "Epoch 66/100\n",
      "62/62 [==============================] - 7s 114ms/step - loss: 7.6826e-04\n",
      "Epoch 67/100\n",
      "62/62 [==============================] - 7s 116ms/step - loss: 8.2211e-04\n",
      "Epoch 68/100\n",
      "62/62 [==============================] - 7s 113ms/step - loss: 8.0626e-04\n",
      "Epoch 69/100\n",
      "62/62 [==============================] - 7s 112ms/step - loss: 7.8649e-04\n",
      "Epoch 70/100\n",
      "62/62 [==============================] - 7s 112ms/step - loss: 7.2131e-04\n",
      "Epoch 71/100\n",
      "62/62 [==============================] - 7s 106ms/step - loss: 7.0547e-04\n",
      "Epoch 72/100\n",
      "62/62 [==============================] - 7s 114ms/step - loss: 5.9680e-04\n",
      "Epoch 73/100\n",
      "62/62 [==============================] - 7s 113ms/step - loss: 8.1270e-04\n",
      "Epoch 74/100\n",
      "62/62 [==============================] - 7s 114ms/step - loss: 6.6043e-04\n",
      "Epoch 75/100\n",
      "62/62 [==============================] - 7s 119ms/step - loss: 6.6006e-04\n",
      "Epoch 76/100\n",
      "62/62 [==============================] - 7s 119ms/step - loss: 8.3828e-04\n",
      "Epoch 77/100\n",
      "62/62 [==============================] - 8s 121ms/step - loss: 7.7845e-04\n",
      "Epoch 78/100\n",
      "62/62 [==============================] - 7s 111ms/step - loss: 6.7137e-04\n",
      "Epoch 79/100\n",
      "62/62 [==============================] - 7s 109ms/step - loss: 6.7780e-04\n",
      "Epoch 80/100\n",
      "62/62 [==============================] - 7s 111ms/step - loss: 6.5872e-04\n",
      "Epoch 81/100\n",
      "62/62 [==============================] - 7s 110ms/step - loss: 8.3496e-04\n",
      "Epoch 82/100\n",
      "62/62 [==============================] - 7s 109ms/step - loss: 9.4225e-04\n",
      "Epoch 83/100\n",
      "62/62 [==============================] - 7s 108ms/step - loss: 7.6782e-04\n",
      "Epoch 84/100\n",
      "62/62 [==============================] - 7s 109ms/step - loss: 6.2643e-04\n",
      "Epoch 85/100\n",
      "62/62 [==============================] - 7s 112ms/step - loss: 7.2977e-04\n",
      "Epoch 86/100\n",
      "62/62 [==============================] - 7s 106ms/step - loss: 6.3868e-04\n",
      "Epoch 87/100\n",
      "62/62 [==============================] - 7s 109ms/step - loss: 6.4134e-04\n",
      "Epoch 88/100\n",
      "62/62 [==============================] - 7s 114ms/step - loss: 8.6530e-04\n",
      "Epoch 89/100\n",
      "62/62 [==============================] - 7s 105ms/step - loss: 7.0761e-04\n",
      "Epoch 90/100\n",
      "62/62 [==============================] - 7s 111ms/step - loss: 7.0126e-04\n",
      "Epoch 91/100\n",
      "62/62 [==============================] - 7s 112ms/step - loss: 5.9719e-04\n",
      "Epoch 92/100\n",
      "62/62 [==============================] - 7s 108ms/step - loss: 6.9201e-04\n",
      "Epoch 93/100\n",
      "62/62 [==============================] - 7s 117ms/step - loss: 6.5451e-04\n",
      "Epoch 94/100\n",
      "62/62 [==============================] - 7s 111ms/step - loss: 6.6809e-04\n",
      "Epoch 95/100\n",
      "62/62 [==============================] - 7s 112ms/step - loss: 7.5234e-04\n",
      "Epoch 96/100\n",
      "62/62 [==============================] - 7s 108ms/step - loss: 6.8917e-04\n",
      "Epoch 97/100\n",
      "62/62 [==============================] - 7s 109ms/step - loss: 6.9498e-04\n",
      "Epoch 98/100\n",
      "62/62 [==============================] - 7s 111ms/step - loss: 5.6770e-04\n",
      "Epoch 99/100\n",
      "62/62 [==============================] - 8s 136ms/step - loss: 5.9796e-04\n",
      "Epoch 100/100\n",
      "62/62 [==============================] - 7s 109ms/step - loss: 6.6455e-04\n"
     ]
    },
    {
     "data": {
      "text/plain": [
       "<keras.callbacks.History at 0x7fcd840d10c0>"
      ]
     },
     "execution_count": 56,
     "metadata": {},
     "output_type": "execute_result"
    }
   ],
   "source": [
    "model = Sequential()\n",
    "model.add(LSTM(units=50,return_sequences=True,input_shape=(X_train.shape[1], 1)))\n",
    "model.add(Dropout(0.2))\n",
    "model.add(LSTM(units=50,return_sequences=True))\n",
    "model.add(Dropout(0.2))\n",
    "model.add(LSTM(units=50,return_sequences=True))\n",
    "model.add(Dropout(0.2))\n",
    "model.add(LSTM(units=50))\n",
    "model.add(Dropout(0.2))\n",
    "model.add(Dense(units=1))\n",
    "model.compile(optimizer='adam',loss='mean_squared_error')\n",
    "model.fit(X_train,y_train,epochs=100,batch_size=32)"
   ]
  },
  {
   "attachments": {},
   "cell_type": "markdown",
   "metadata": {},
   "source": [
    "## Predictions on Test set"
   ]
  },
  {
   "cell_type": "code",
   "execution_count": 57,
   "metadata": {},
   "outputs": [],
   "source": [
    "url = 'https://raw.githubusercontent.com/mwitiderrick/stockprice/master/tatatest.csv'\n",
    "dataset_test = pd.read_csv(url)\n",
    "real_stock_price = dataset_test.iloc[:, 1:2].values"
   ]
  },
  {
   "cell_type": "code",
   "execution_count": 59,
   "metadata": {},
   "outputs": [],
   "source": [
    "dataset_total = pd.concat((dataset_train['Open'], dataset_test['Open']), axis = 0)\n",
    "inputs = dataset_total[len(dataset_total) - len(dataset_test) - 60:].values\n",
    "inputs = inputs.reshape(-1,1)\n",
    "inputs = sc.transform(inputs)"
   ]
  },
  {
   "cell_type": "code",
   "execution_count": 64,
   "metadata": {},
   "outputs": [
    {
     "data": {
      "text/plain": [
       "(16, 60, 1)"
      ]
     },
     "execution_count": 64,
     "metadata": {},
     "output_type": "execute_result"
    }
   ],
   "source": [
    "X_test = []\n",
    "for i in range(60, 76):\n",
    "    X_test.append(inputs[i-60:i, 0])\n",
    "\n",
    "X_test = np.array(X_test)\n",
    "X_test = np.reshape(X_test, (X_test.shape[0], X_test.shape[1], 1))\n",
    "X_test.shape"
   ]
  },
  {
   "cell_type": "code",
   "execution_count": 74,
   "metadata": {},
   "outputs": [
    {
     "name": "stdout",
     "output_type": "stream",
     "text": [
      "1/1 [==============================] - 0s 34ms/step\n"
     ]
    }
   ],
   "source": [
    "predicted_stock_price = model.predict(X_test)\n",
    "predicted_stock_price = sc.inverse_transform(predicted_stock_price)"
   ]
  },
  {
   "cell_type": "code",
   "execution_count": 76,
   "metadata": {},
   "outputs": [
    {
     "data": {
      "image/png": "[encoded data removed]",
      "text/plain": [
       "<Figure size 640x480 with 1 Axes>"
      ]
     },
     "metadata": {},
     "output_type": "display_data"
    }
   ],
   "source": [
    "plt.plot(real_stock_price, color = 'black', label = 'TATA Stock Price')\n",
    "plt.plot(predicted_stock_price, color = 'green', label = 'Predicted TATA Stock Price')\n",
    "plt.title('TATA Stock Price Prediction')\n",
    "plt.xlabel('Time')\n",
    "plt.ylabel('TATA Stock Price')\n",
    "plt.legend()\n",
    "plt.show()"
   ]
  },
  {
   "cell_type": "code",
   "execution_count": null,
   "metadata": {},
   "outputs": [],
   "source": []
  }
 ],
 "metadata": {
  "kernelspec": {
   "display_name": "Python 3",
   "language": "python",
   "name": "python3"
  },
  "language_info": {
   "codemirror_mode": {
    "name": "ipython",
    "version": 3
   },
   "file_extension": ".py",
   "mimetype": "text/x-python",
   "name": "python",
   "nbconvert_exporter": "python",
   "pygments_lexer": "ipython3",
   "version": "3.10.4"
  },
  "orig_nbformat": 4,
  "vscode": {
   "interpreter": {
    "hash": "3ad933181bd8a04b432d3370b9dc3b0662ad032c4dfaa4e4f1596c548f763858"
   }
  }
 },
 "nbformat": 4,
 "nbformat_minor": 2
}

{
 "cells": [
  {
   "cell_type": "code",
   "execution_count": 19,
   "metadata": {},
   "outputs": [],
   "source": [
    "## Reference page: https://towardsdatascience.com/predicting-stock-prices-using-a-keras-lstm-model-4225457f0233\n",
    "import numpy as np\n",
    "import matplotlib.pyplot as plt\n",
    "import pandas as pd "
   ]
  },
  {
   "cell_type": "code",
   "execution_count": 20,
   "metadata": {},
   "outputs": [],
   "source": [
    "url = 'https://raw.githubusercontent.com/mwitiderrick/stockprice/master/NSE-TATAGLOBAL.csv'"
   ]
  },
  {
   "cell_type": "code",
   "execution_count": 21,
   "metadata": {},
   "outputs": [],
   "source": [
    "dataset_train = pd.read_csv(url)"
   ]
  },
  {
   "cell_type": "code",
   "execution_count": 22,
   "metadata": {},
   "outputs": [
    {
     "data": {
      "text/html": [
       "<div>\n",
       "<style scoped>\n",
       "    .dataframe tbody tr th:only-of-type {\n",
       "        vertical-align: middle;\n",
       "    }\n",
       "\n",
       "    .dataframe tbody tr th {\n",
       "        vertical-align: top;\n",
       "    }\n",
       "\n",
       "    .dataframe thead th {\n",
       "        text-align: right;\n",
       "    }\n",
       "</style>\n",
       "<table border=\"1\" class=\"dataframe\">\n",
       "  <thead>\n",
       "    <tr style=\"text-align: right;\">\n",
       "      <th></th>\n",
       "      <th>Date</th>\n",
       "      <th>Open</th>\n",
       "      <th>High</th>\n",
       "      <th>Low</th>\n",
       "      <th>Last</th>\n",
       "      <th>Close</th>\n",
       "      <th>Total Trade Quantity</th>\n",
       "      <th>Turnover (Lacs)</th>\n",
       "    </tr>\n",
       "  </thead>\n",
       "  <tbody>\n",
       "    <tr>\n",
       "      <th>0</th>\n",
       "      <td>2018-09-28</td>\n",
       "      <td>234.05</td>\n",
       "      <td>235.95</td>\n",
       "      <td>230.20</td>\n",
       "      <td>233.50</td>\n",
       "      <td>233.75</td>\n",
       "      <td>3069914</td>\n",
       "      <td>7162.35</td>\n",
       "    </tr>\n",
       "    <tr>\n",
       "      <th>1</th>\n",
       "      <td>2018-09-27</td>\n",
       "      <td>234.55</td>\n",
       "      <td>236.80</td>\n",
       "      <td>231.10</td>\n",
       "      <td>233.80</td>\n",
       "      <td>233.25</td>\n",
       "      <td>5082859</td>\n",
       "      <td>11859.95</td>\n",
       "    </tr>\n",
       "    <tr>\n",
       "      <th>2</th>\n",
       "      <td>2018-09-26</td>\n",
       "      <td>240.00</td>\n",
       "      <td>240.00</td>\n",
       "      <td>232.50</td>\n",
       "      <td>235.00</td>\n",
       "      <td>234.25</td>\n",
       "      <td>2240909</td>\n",
       "      <td>5248.60</td>\n",
       "    </tr>\n",
       "    <tr>\n",
       "      <th>3</th>\n",
       "      <td>2018-09-25</td>\n",
       "      <td>233.30</td>\n",
       "      <td>236.75</td>\n",
       "      <td>232.00</td>\n",
       "      <td>236.25</td>\n",
       "      <td>236.10</td>\n",
       "      <td>2349368</td>\n",
       "      <td>5503.90</td>\n",
       "    </tr>\n",
       "    <tr>\n",
       "      <th>4</th>\n",
       "      <td>2018-09-24</td>\n",
       "      <td>233.55</td>\n",
       "      <td>239.20</td>\n",
       "      <td>230.75</td>\n",
       "      <td>234.00</td>\n",
       "      <td>233.30</td>\n",
       "      <td>3423509</td>\n",
       "      <td>7999.55</td>\n",
       "    </tr>\n",
       "  </tbody>\n",
       "</table>\n",
       "</div>"
      ],
      "text/plain": [
       "         Date    Open    High     Low    Last   Close  Total Trade Quantity  \\\n",
       "0  2018-09-28  234.05  235.95  230.20  233.50  233.75               3069914   \n",
       "1  2018-09-27  234.55  236.80  231.10  233.80  233.25               5082859   \n",
       "2  2018-09-26  240.00  240.00  232.50  235.00  234.25               2240909   \n",
       "3  2018-09-25  233.30  236.75  232.00  236.25  236.10               2349368   \n",
       "4  2018-09-24  233.55  239.20  230.75  234.00  233.30               3423509   \n",
       "\n",
       "   Turnover (Lacs)  \n",
       "0          7162.35  \n",
       "1         11859.95  \n",
       "2          5248.60  \n",
       "3          5503.90  \n",
       "4          7999.55  "
      ]
     },
     "execution_count": 22,
     "metadata": {},
     "output_type": "execute_result"
    }
   ],
   "source": [
    "dataset_train.head()"
   ]
  },
  {
   "cell_type": "code",
   "execution_count": 23,
   "metadata": {},
   "outputs": [],
   "source": [
    "training_set = dataset_train.iloc[:, 1:2].values"
   ]
  },
  {
   "cell_type": "code",
   "execution_count": 24,
   "metadata": {},
   "outputs": [
    {
     "data": {
      "text/plain": [
       "array([[234.05],\n",
       "       [234.55],\n",
       "       [240.  ],\n",
       "       ...,\n",
       "       [121.8 ],\n",
       "       [120.3 ],\n",
       "       [122.1 ]])"
      ]
     },
     "execution_count": 24,
     "metadata": {},
     "output_type": "execute_result"
    }
   ],
   "source": [
    "training_set"
   ]
  },
  {
   "cell_type": "code",
   "execution_count": 25,
   "metadata": {},
   "outputs": [],
   "source": [
    "from sklearn.preprocessing import MinMaxScaler\n",
    "sc = MinMaxScaler(feature_range=(0,1))"
   ]
  },
  {
   "cell_type": "code",
   "execution_count": 26,
   "metadata": {},
   "outputs": [],
   "source": [
    "training_set_scaled = sc.fit_transform(training_set)"
   ]
  },
  {
   "cell_type": "code",
   "execution_count": 27,
   "metadata": {},
   "outputs": [
    {
     "name": "stdout",
     "output_type": "stream",
     "text": [
      "(1975, 60) (1975,)\n"
     ]
    }
   ],
   "source": [
    "X_train = []\n",
    "y_train = []\n",
    "for i in range(60, 2035):\n",
    "    X_train.append(training_set_scaled[i-60:i, 0])\n",
    "    y_train.append(training_set_scaled[i, 0])\n",
    "X_train, y_train = np.array(X_train), np.array(y_train)\n",
    "print(X_train.shape, y_train.shape)\n",
    "X_train = np.reshape(X_train, (X_train.shape[0], X_train.shape[1], 1))"
   ]
  },
  {
   "cell_type": "code",
   "execution_count": 28,
   "metadata": {},
   "outputs": [
    {
     "data": {
      "text/plain": [
       "((1975, 60, 1), (1975,))"
      ]
     },
     "execution_count": 28,
     "metadata": {},
     "output_type": "execute_result"
    }
   ],
   "source": [
    "X_train.shape, y_train.shape"
   ]
  },
  {
   "cell_type": "code",
   "execution_count": 29,
   "metadata": {},
   "outputs": [
    {
     "name": "stderr",
     "output_type": "stream",
     "text": [
      "2023-01-27 15:12:21.105045: I tensorflow/core/platform/cpu_feature_guard.cc:193] This TensorFlow binary is optimized with oneAPI Deep Neural Network Library (oneDNN) to use the following CPU instructions in performance-critical operations:  AVX2 AVX512F FMA\n",
      "To enable them in other operations, rebuild TensorFlow with the appropriate compiler flags.\n",
      "2023-01-27 15:12:24.092513: W tensorflow/compiler/xla/stream_executor/platform/default/dso_loader.cc:64] Could not load dynamic library 'libcudart.so.11.0'; dlerror: libcudart.so.11.0: cannot open shared object file: No such file or directory\n",
      "2023-01-27 15:12:24.092544: I tensorflow/compiler/xla/stream_executor/cuda/cudart_stub.cc:29] Ignore above cudart dlerror if you do not have a GPU set up on your machine.\n",
      "2023-01-27 15:12:31.430629: W tensorflow/compiler/xla/stream_executor/platform/default/dso_loader.cc:64] Could not load dynamic library 'libnvinfer.so.7'; dlerror: libnvinfer.so.7: cannot open shared object file: No such file or directory\n",
      "2023-01-27 15:12:31.436070: W tensorflow/compiler/xla/stream_executor/platform/default/dso_loader.cc:64] Could not load dynamic library 'libnvinfer_plugin.so.7'; dlerror: libnvinfer_plugin.so.7: cannot open shared object file: No such file or directory\n",
      "2023-01-27 15:12:31.436106: W tensorflow/compiler/tf2tensorrt/utils/py_utils.cc:38] TF-TRT Warning: Cannot dlopen some TensorRT libraries. If you would like to use Nvidia GPU with TensorRT, please make sure the missing libraries mentioned above are installed properly.\n"
     ]
    }
   ],
   "source": [
    "from keras.models import Sequential\n",
    "from keras.layers import LSTM\n",
    "from keras.layers import Dropout\n",
    "from keras.layers import Dense"
   ]
  },
  {
   "cell_type": "code",
   "execution_count": 30,
   "metadata": {},
   "outputs": [
    {
     "name": "stderr",
     "output_type": "stream",
     "text": [
      "2023-01-27 15:12:38.016898: W tensorflow/compiler/xla/stream_executor/platform/default/dso_loader.cc:64] Could not load dynamic library 'libcuda.so.1'; dlerror: libcuda.so.1: cannot open shared object file: No such file or directory\n",
      "2023-01-27 15:12:38.026761: W tensorflow/compiler/xla/stream_executor/cuda/cuda_driver.cc:265] failed call to cuInit: UNKNOWN ERROR (303)\n",
      "2023-01-27 15:12:38.039968: I tensorflow/compiler/xla/stream_executor/cuda/cuda_diagnostics.cc:156] kernel driver does not appear to be running on this host (codespaces-2686da): /proc/driver/nvidia/version does not exist\n",
      "2023-01-27 15:12:38.112833: I tensorflow/core/platform/cpu_feature_guard.cc:193] This TensorFlow binary is optimized with oneAPI Deep Neural Network Library (oneDNN) to use the following CPU instructions in performance-critical operations:  AVX2 AVX512F FMA\n",
      "To enable them in other operations, rebuild TensorFlow with the appropriate compiler flags.\n"
     ]
    }
   ],
   "source": [
    "model = Sequential()\n",
    "model.add(LSTM(units=50,return_sequences=True,input_shape=(X_train.shape[1], 1)))\n",
    "model.add(Dropout(0.2))\n",
    "model.add(LSTM(units=50,return_sequences=True))\n",
    "model.add(Dropout(0.2))\n",
    "model.add(LSTM(units=50,return_sequences=True))\n",
    "model.add(Dropout(0.2))\n",
    "model.add(LSTM(units=50))\n",
    "model.add(Dropout(0.2))\n",
    "model.add(Dense(units=1))\n",
    "model.compile(optimizer='adam',loss='mean_squared_error')"
   ]
  },
  {
   "cell_type": "code",
   "execution_count": 41,
   "metadata": {},
   "outputs": [
    {
     "name": "stdout",
     "output_type": "stream",
     "text": [
      "Epoch 1/100\n",
      "62/62 [==============================] - 5s 88ms/step - loss: 0.0019\n",
      "Epoch 2/100\n",
      "62/62 [==============================] - 5s 84ms/step - loss: 0.0017\n",
      "Epoch 3/100\n",
      "62/62 [==============================] - 5s 85ms/step - loss: 0.0017\n",
      "Epoch 4/100\n",
      "62/62 [==============================] - 5s 85ms/step - loss: 0.0015\n",
      "Epoch 5/100\n",
      "62/62 [==============================] - 6s 90ms/step - loss: 0.0016\n",
      "Epoch 6/100\n",
      "62/62 [==============================] - 5s 84ms/step - loss: 0.0015\n",
      "Epoch 7/100\n",
      "62/62 [==============================] - 5s 86ms/step - loss: 0.0017\n",
      "Epoch 8/100\n",
      "62/62 [==============================] - 5s 85ms/step - loss: 0.0016\n",
      "Epoch 9/100\n",
      "62/62 [==============================] - 5s 85ms/step - loss: 0.0014\n",
      "Epoch 10/100\n",
      "62/62 [==============================] - 6s 101ms/step - loss: 0.0015\n",
      "Epoch 11/100\n",
      "62/62 [==============================] - 5s 84ms/step - loss: 0.0014\n",
      "Epoch 12/100\n",
      "62/62 [==============================] - 5s 88ms/step - loss: 0.0012\n",
      "Epoch 13/100\n",
      "62/62 [==============================] - 5s 85ms/step - loss: 0.0012\n",
      "Epoch 14/100\n",
      "62/62 [==============================] - 5s 87ms/step - loss: 0.0013\n",
      "Epoch 15/100\n",
      "62/62 [==============================] - 5s 85ms/step - loss: 0.0013\n",
      "Epoch 16/100\n",
      "62/62 [==============================] - 5s 87ms/step - loss: 0.0013\n",
      "Epoch 17/100\n",
      "62/62 [==============================] - 5s 87ms/step - loss: 0.0013\n",
      "Epoch 18/100\n",
      "62/62 [==============================] - 5s 87ms/step - loss: 0.0012\n",
      "Epoch 19/100\n",
      "62/62 [==============================] - 5s 85ms/step - loss: 0.0012\n",
      "Epoch 20/100\n",
      "62/62 [==============================] - 6s 90ms/step - loss: 0.0011\n",
      "Epoch 21/100\n",
      "62/62 [==============================] - 5s 86ms/step - loss: 0.0010\n",
      "Epoch 22/100\n",
      "62/62 [==============================] - 6s 89ms/step - loss: 0.0010\n",
      "Epoch 23/100\n",
      "62/62 [==============================] - 5s 87ms/step - loss: 0.0011\n",
      "Epoch 24/100\n",
      "62/62 [==============================] - 6s 91ms/step - loss: 0.0011\n",
      "Epoch 25/100\n",
      "62/62 [==============================] - 5s 86ms/step - loss: 0.0010\n",
      "Epoch 26/100\n",
      "62/62 [==============================] - 5s 88ms/step - loss: 8.9784e-04\n",
      "Epoch 27/100\n",
      "62/62 [==============================] - 6s 92ms/step - loss: 0.0012\n",
      "Epoch 28/100\n",
      "62/62 [==============================] - 5s 84ms/step - loss: 0.0010\n",
      "Epoch 29/100\n",
      "62/62 [==============================] - 5s 87ms/step - loss: 9.8574e-04\n",
      "Epoch 30/100\n",
      "62/62 [==============================] - 5s 85ms/step - loss: 9.5784e-04\n",
      "Epoch 31/100\n",
      "62/62 [==============================] - 5s 87ms/step - loss: 0.0011\n",
      "Epoch 32/100\n",
      "62/62 [==============================] - 5s 85ms/step - loss: 8.6060e-04\n",
      "Epoch 33/100\n",
      "62/62 [==============================] - 6s 89ms/step - loss: 8.5012e-04\n",
      "Epoch 34/100\n",
      "62/62 [==============================] - 5s 86ms/step - loss: 8.6830e-04\n",
      "Epoch 35/100\n",
      "62/62 [==============================] - 5s 88ms/step - loss: 8.7163e-04\n",
      "Epoch 36/100\n",
      "62/62 [==============================] - 6s 89ms/step - loss: 8.6964e-04\n",
      "Epoch 37/100\n",
      "62/62 [==============================] - 6s 89ms/step - loss: 8.5144e-04\n",
      "Epoch 38/100\n",
      "62/62 [==============================] - 5s 85ms/step - loss: 8.4634e-04\n",
      "Epoch 39/100\n",
      "62/62 [==============================] - 6s 91ms/step - loss: 8.7074e-04\n",
      "Epoch 40/100\n",
      "62/62 [==============================] - 5s 85ms/step - loss: 8.5984e-04\n",
      "Epoch 41/100\n",
      "62/62 [==============================] - 6s 88ms/step - loss: 8.9275e-04\n",
      "Epoch 42/100\n",
      "62/62 [==============================] - 5s 85ms/step - loss: 8.9387e-04\n",
      "Epoch 43/100\n",
      "62/62 [==============================] - 5s 88ms/step - loss: 8.2007e-04\n",
      "Epoch 44/100\n",
      "62/62 [==============================] - 5s 86ms/step - loss: 9.4399e-04\n",
      "Epoch 45/100\n",
      "62/62 [==============================] - 5s 89ms/step - loss: 8.8018e-04\n",
      "Epoch 46/100\n",
      "62/62 [==============================] - 5s 88ms/step - loss: 8.1386e-04\n",
      "Epoch 47/100\n",
      "62/62 [==============================] - 5s 87ms/step - loss: 8.8862e-04\n",
      "Epoch 48/100\n",
      "62/62 [==============================] - 5s 84ms/step - loss: 7.8695e-04\n",
      "Epoch 49/100\n",
      "62/62 [==============================] - 5s 87ms/step - loss: 7.7587e-04\n",
      "Epoch 50/100\n",
      "62/62 [==============================] - 5s 87ms/step - loss: 8.0734e-04\n",
      "Epoch 51/100\n",
      "62/62 [==============================] - 5s 86ms/step - loss: 7.9382e-04\n",
      "Epoch 52/100\n",
      "62/62 [==============================] - 5s 88ms/step - loss: 7.6865e-04\n",
      "Epoch 53/100\n",
      "62/62 [==============================] - 5s 88ms/step - loss: 8.8953e-04\n",
      "Epoch 54/100\n",
      "62/62 [==============================] - 6s 89ms/step - loss: 7.8066e-04\n",
      "Epoch 55/100\n",
      "62/62 [==============================] - 5s 84ms/step - loss: 7.8053e-04\n",
      "Epoch 56/100\n",
      "62/62 [==============================] - 6s 93ms/step - loss: 7.5297e-04\n",
      "Epoch 57/100\n",
      "62/62 [==============================] - 6s 99ms/step - loss: 8.1751e-04\n",
      "Epoch 58/100\n",
      "62/62 [==============================] - 6s 101ms/step - loss: 8.7732e-04\n",
      "Epoch 59/100\n",
      "62/62 [==============================] - 6s 98ms/step - loss: 6.8163e-04\n",
      "Epoch 60/100\n",
      "62/62 [==============================] - 7s 106ms/step - loss: 7.8542e-04\n",
      "Epoch 61/100\n",
      "62/62 [==============================] - 7s 107ms/step - loss: 7.4281e-04\n",
      "Epoch 62/100\n",
      "62/62 [==============================] - 6s 105ms/step - loss: 7.8116e-04\n",
      "Epoch 63/100\n",
      "62/62 [==============================] - 6s 104ms/step - loss: 7.6119e-04\n",
      "Epoch 64/100\n",
      "62/62 [==============================] - 6s 92ms/step - loss: 7.1152e-04\n",
      "Epoch 65/100\n",
      "62/62 [==============================] - 5s 88ms/step - loss: 7.8263e-04\n",
      "Epoch 66/100\n",
      "62/62 [==============================] - 6s 95ms/step - loss: 7.1925e-04\n",
      "Epoch 67/100\n",
      "62/62 [==============================] - 5s 89ms/step - loss: 7.5319e-04\n",
      "Epoch 68/100\n",
      "62/62 [==============================] - 6s 90ms/step - loss: 7.0353e-04\n",
      "Epoch 69/100\n",
      "62/62 [==============================] - 6s 89ms/step - loss: 7.1870e-04\n",
      "Epoch 70/100\n",
      "62/62 [==============================] - 6s 91ms/step - loss: 6.5255e-04\n",
      "Epoch 71/100\n",
      "62/62 [==============================] - 6s 90ms/step - loss: 7.3846e-04\n",
      "Epoch 72/100\n",
      "62/62 [==============================] - 6s 90ms/step - loss: 7.6987e-04\n",
      "Epoch 73/100\n",
      "62/62 [==============================] - 6s 90ms/step - loss: 7.6237e-04\n",
      "Epoch 74/100\n",
      "62/62 [==============================] - 6s 92ms/step - loss: 7.0347e-04\n",
      "Epoch 75/100\n",
      "62/62 [==============================] - 6s 92ms/step - loss: 6.3734e-04\n",
      "Epoch 76/100\n",
      "62/62 [==============================] - 6s 92ms/step - loss: 7.3973e-04\n",
      "Epoch 77/100\n",
      "62/62 [==============================] - 6s 91ms/step - loss: 6.4554e-04\n",
      "Epoch 78/100\n",
      "62/62 [==============================] - 5s 88ms/step - loss: 6.7163e-04\n",
      "Epoch 79/100\n",
      "62/62 [==============================] - 6s 95ms/step - loss: 7.0827e-04\n",
      "Epoch 80/100\n",
      "62/62 [==============================] - 6s 91ms/step - loss: 7.9104e-04\n",
      "Epoch 81/100\n",
      "62/62 [==============================] - 6s 92ms/step - loss: 6.0752e-04\n",
      "Epoch 82/100\n",
      "62/62 [==============================] - 5s 88ms/step - loss: 6.0837e-04\n",
      "Epoch 83/100\n",
      "62/62 [==============================] - 6s 95ms/step - loss: 6.1420e-04\n",
      "Epoch 84/100\n",
      "62/62 [==============================] - 5s 89ms/step - loss: 7.4799e-04\n",
      "Epoch 85/100\n",
      "62/62 [==============================] - 6s 91ms/step - loss: 6.3289e-04\n",
      "Epoch 86/100\n",
      "62/62 [==============================] - 6s 92ms/step - loss: 7.4101e-04\n",
      "Epoch 87/100\n",
      "62/62 [==============================] - 7s 107ms/step - loss: 6.7271e-04\n",
      "Epoch 88/100\n",
      "62/62 [==============================] - 6s 104ms/step - loss: 6.6903e-04\n",
      "Epoch 89/100\n",
      "62/62 [==============================] - 6s 101ms/step - loss: 6.3114e-04\n",
      "Epoch 90/100\n",
      "62/62 [==============================] - 7s 109ms/step - loss: 6.2101e-04\n",
      "Epoch 91/100\n",
      "62/62 [==============================] - 7s 107ms/step - loss: 6.6613e-04\n",
      "Epoch 92/100\n",
      "62/62 [==============================] - 7s 107ms/step - loss: 6.4525e-04\n",
      "Epoch 93/100\n",
      "62/62 [==============================] - 7s 106ms/step - loss: 7.5000e-04\n",
      "Epoch 94/100\n",
      "62/62 [==============================] - 7s 106ms/step - loss: 6.4141e-04\n",
      "Epoch 95/100\n",
      "62/62 [==============================] - 7s 106ms/step - loss: 7.1218e-04\n",
      "Epoch 96/100\n",
      "62/62 [==============================] - 7s 105ms/step - loss: 5.9014e-04\n",
      "Epoch 97/100\n",
      "62/62 [==============================] - 6s 104ms/step - loss: 6.0907e-04\n",
      "Epoch 98/100\n",
      "62/62 [==============================] - 7s 105ms/step - loss: 5.6944e-04\n",
      "Epoch 99/100\n",
      "62/62 [==============================] - 7s 111ms/step - loss: 6.0054e-04\n",
      "Epoch 100/100\n",
      "62/62 [==============================] - 6s 101ms/step - loss: 5.9813e-04\n"
     ]
    },
    {
     "data": {
      "text/plain": [
       "<keras.callbacks.History at 0x7fe21cd14970>"
      ]
     },
     "execution_count": 41,
     "metadata": {},
     "output_type": "execute_result"
    }
   ],
   "source": [
    "model.fit(X_train,y_train,epochs=100,batch_size=32)"
   ]
  },
  {
   "attachments": {},
   "cell_type": "markdown",
   "metadata": {},
   "source": [
    "## Predictions on Test set"
   ]
  },
  {
   "cell_type": "code",
   "execution_count": 42,
   "metadata": {},
   "outputs": [],
   "source": [
    "url = 'https://raw.githubusercontent.com/mwitiderrick/stockprice/master/tatatest.csv'\n",
    "dataset_test = pd.read_csv(url)\n",
    "real_stock_price = dataset_test.iloc[:, 1:2].values"
   ]
  },
  {
   "cell_type": "code",
   "execution_count": 43,
   "metadata": {},
   "outputs": [
    {
     "data": {
      "text/html": [
       "<div>\n",
       "<style scoped>\n",
       "    .dataframe tbody tr th:only-of-type {\n",
       "        vertical-align: middle;\n",
       "    }\n",
       "\n",
       "    .dataframe tbody tr th {\n",
       "        vertical-align: top;\n",
       "    }\n",
       "\n",
       "    .dataframe thead th {\n",
       "        text-align: right;\n",
       "    }\n",
       "</style>\n",
       "<table border=\"1\" class=\"dataframe\">\n",
       "  <thead>\n",
       "    <tr style=\"text-align: right;\">\n",
       "      <th></th>\n",
       "      <th>Date</th>\n",
       "      <th>Open</th>\n",
       "      <th>High</th>\n",
       "      <th>Low</th>\n",
       "      <th>Last</th>\n",
       "      <th>Close</th>\n",
       "      <th>Total Trade Quantity</th>\n",
       "      <th>Turnover (Lacs)</th>\n",
       "    </tr>\n",
       "  </thead>\n",
       "  <tbody>\n",
       "    <tr>\n",
       "      <th>0</th>\n",
       "      <td>2018-10-24</td>\n",
       "      <td>220.10</td>\n",
       "      <td>221.25</td>\n",
       "      <td>217.05</td>\n",
       "      <td>219.55</td>\n",
       "      <td>219.80</td>\n",
       "      <td>2171956</td>\n",
       "      <td>4771.34</td>\n",
       "    </tr>\n",
       "    <tr>\n",
       "      <th>1</th>\n",
       "      <td>2018-10-23</td>\n",
       "      <td>221.10</td>\n",
       "      <td>222.20</td>\n",
       "      <td>214.75</td>\n",
       "      <td>219.55</td>\n",
       "      <td>218.30</td>\n",
       "      <td>1416279</td>\n",
       "      <td>3092.15</td>\n",
       "    </tr>\n",
       "    <tr>\n",
       "      <th>2</th>\n",
       "      <td>2018-10-22</td>\n",
       "      <td>229.45</td>\n",
       "      <td>231.60</td>\n",
       "      <td>222.00</td>\n",
       "      <td>223.05</td>\n",
       "      <td>223.25</td>\n",
       "      <td>3529711</td>\n",
       "      <td>8028.37</td>\n",
       "    </tr>\n",
       "    <tr>\n",
       "      <th>3</th>\n",
       "      <td>2018-10-19</td>\n",
       "      <td>230.30</td>\n",
       "      <td>232.70</td>\n",
       "      <td>225.50</td>\n",
       "      <td>227.75</td>\n",
       "      <td>227.20</td>\n",
       "      <td>1527904</td>\n",
       "      <td>3490.78</td>\n",
       "    </tr>\n",
       "    <tr>\n",
       "      <th>4</th>\n",
       "      <td>2018-10-17</td>\n",
       "      <td>237.70</td>\n",
       "      <td>240.80</td>\n",
       "      <td>229.45</td>\n",
       "      <td>231.30</td>\n",
       "      <td>231.10</td>\n",
       "      <td>2945914</td>\n",
       "      <td>6961.65</td>\n",
       "    </tr>\n",
       "  </tbody>\n",
       "</table>\n",
       "</div>"
      ],
      "text/plain": [
       "         Date    Open    High     Low    Last   Close  Total Trade Quantity  \\\n",
       "0  2018-10-24  220.10  221.25  217.05  219.55  219.80               2171956   \n",
       "1  2018-10-23  221.10  222.20  214.75  219.55  218.30               1416279   \n",
       "2  2018-10-22  229.45  231.60  222.00  223.05  223.25               3529711   \n",
       "3  2018-10-19  230.30  232.70  225.50  227.75  227.20               1527904   \n",
       "4  2018-10-17  237.70  240.80  229.45  231.30  231.10               2945914   \n",
       "\n",
       "   Turnover (Lacs)  \n",
       "0          4771.34  \n",
       "1          3092.15  \n",
       "2          8028.37  \n",
       "3          3490.78  \n",
       "4          6961.65  "
      ]
     },
     "execution_count": 43,
     "metadata": {},
     "output_type": "execute_result"
    }
   ],
   "source": [
    "dataset_test.head()"
   ]
  },
  {
   "cell_type": "code",
   "execution_count": 44,
   "metadata": {},
   "outputs": [
    {
     "data": {
      "text/plain": [
       "((16, 8), (2035, 8), (2051,))"
      ]
     },
     "execution_count": 44,
     "metadata": {},
     "output_type": "execute_result"
    }
   ],
   "source": [
    "dataset_total = pd.concat((dataset_train['Open'], dataset_test['Open']), axis = 0)\n",
    "dataset_test.shape, dataset_train.shape, dataset_total.shape"
   ]
  },
  {
   "cell_type": "code",
   "execution_count": 45,
   "metadata": {},
   "outputs": [
    {
     "data": {
      "text/plain": [
       "(76,)"
      ]
     },
     "execution_count": 45,
     "metadata": {},
     "output_type": "execute_result"
    }
   ],
   "source": [
    "inputs = dataset_total[len(dataset_total) - len(dataset_test) - 60:].values\n",
    "inputs.shape"
   ]
  },
  {
   "cell_type": "code",
   "execution_count": 46,
   "metadata": {},
   "outputs": [
    {
     "data": {
      "text/plain": [
       "(76, 1)"
      ]
     },
     "execution_count": 46,
     "metadata": {},
     "output_type": "execute_result"
    }
   ],
   "source": [
    "inputs = inputs.reshape(-1,1)\n",
    "inputs.shape\n",
    "inputs = sc.transform(inputs)\n",
    "inputs.shape"
   ]
  },
  {
   "cell_type": "code",
   "execution_count": null,
   "metadata": {},
   "outputs": [],
   "source": []
  },
  {
   "cell_type": "code",
   "execution_count": 47,
   "metadata": {},
   "outputs": [
    {
     "data": {
      "text/plain": [
       "(16, 60, 1)"
      ]
     },
     "execution_count": 47,
     "metadata": {},
     "output_type": "execute_result"
    }
   ],
   "source": [
    "X_test = []\n",
    "for i in range(60, 76):\n",
    "    X_test.append(inputs[i-60:i, 0])\n",
    "\n",
    "X_test = np.array(X_test)\n",
    "X_test = np.reshape(X_test, (X_test.shape[0], X_test.shape[1], 1))\n",
    "X_test.shape"
   ]
  },
  {
   "cell_type": "code",
   "execution_count": 48,
   "metadata": {},
   "outputs": [
    {
     "name": "stdout",
     "output_type": "stream",
     "text": [
      "1/1 [==============================] - 0s 50ms/step\n"
     ]
    }
   ],
   "source": [
    "predicted_stock_price = model.predict(X_test)\n",
    "predicted_stock_price = sc.inverse_transform(predicted_stock_price)"
   ]
  },
  {
   "cell_type": "code",
   "execution_count": 49,
   "metadata": {},
   "outputs": [
    {
     "data": {
      "image/png": "[encoded data removed]",
      "text/plain": [
       "<Figure size 640x480 with 1 Axes>"
      ]
     },
     "metadata": {},
     "output_type": "display_data"
    },
    {
     "ename": "",
     "evalue": "",
     "output_type": "error",
     "traceback": [
      "\u001b[1;31mEl Kernel se bloqueó al ejecutar código en la celda actual o en una celda anterior. Revise el código de las celdas para identificar una posible causa del error. Haga clic <a href='https://aka.ms/vscodeJupyterKernelCrash'>aquí</a> para obtener más información. Vea el [registro] de Jupyter (command:jupyter.viewOutput) para obtener más detalles."
     ]
    }
   ],
   "source": [
    "plt.plot(real_stock_price, color = 'black', label = 'TATA Stock Price')\n",
    "plt.plot(predicted_stock_price, color = 'green', label = 'Predicted TATA Stock Price')\n",
    "plt.title('TATA Stock Price Prediction')\n",
    "plt.xlabel('Time')\n",
    "plt.ylabel('TATA Stock Price')\n",
    "plt.legend()\n",
    "plt.show()"
   ]
  },
  {
   "cell_type": "code",
   "execution_count": null,
   "metadata": {},
   "outputs": [],
   "source": []
  }
 ],
 "metadata": {
  "kernelspec": {
   "display_name": "Python 3",
   "language": "python",
   "name": "python3"
  },
  "language_info": {
   "codemirror_mode": {
    "name": "ipython",
    "version": 3
   },
   "file_extension": ".py",
   "mimetype": "text/x-python",
   "name": "python",
   "nbconvert_exporter": "python",
   "pygments_lexer": "ipython3",
   "version": "3.10.4"
  },
  "orig_nbformat": 4,
  "vscode": {
   "interpreter": {
    "hash": "3ad933181bd8a04b432d3370b9dc3b0662ad032c4dfaa4e4f1596c548f763858"
   }
  }
 },
 "nbformat": 4,
 "nbformat_minor": 2
}

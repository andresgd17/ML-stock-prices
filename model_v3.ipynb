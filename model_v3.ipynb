{
 "cells": [
  {
   "cell_type": "markdown",
   "metadata": {},
   "source": [
    "# Get current stock price data"
   ]
  },
  {
   "cell_type": "code",
   "execution_count": 2,
   "metadata": {},
   "outputs": [],
   "source": [
    "import yfinance as yf\n",
    "import numpy as np\n",
    "import matplotlib.pyplot as plt\n",
    "import pandas as pd "
   ]
  },
  {
   "cell_type": "code",
   "execution_count": 27,
   "metadata": {},
   "outputs": [],
   "source": [
    "# https://vegibit.com/python-yfinance-tutorial/\n",
    "tsla = yf.Ticker(\"TSLA\") #ticker for TESLA stocks"
   ]
  },
  {
   "cell_type": "code",
   "execution_count": 4,
   "metadata": {},
   "outputs": [],
   "source": [
    "#msft.history(period='6mo')"
   ]
  },
  {
   "cell_type": "code",
   "execution_count": 136,
   "metadata": {},
   "outputs": [
    {
     "name": "stdout",
     "output_type": "stream",
     "text": [
      "[*********************100%***********************]  1 of 1 completed\n"
     ]
    },
    {
     "data": {
      "text/plain": [
       "1015"
      ]
     },
     "execution_count": 136,
     "metadata": {},
     "output_type": "execute_result"
    }
   ],
   "source": [
    "# https://stackoverflow.com/questions/61976027/scraping-yahoo-finance-at-regular-intervals\n",
    "\n",
    "#dataset_train = yf.download(\"TSLA\", start=\"2022-01-27\", end=\"2022-12-27\") # poner un dia mas del actual\n",
    "## Valid intervals: [1m, 2m, 5m, 15m, 30m, 60m, 90m, 1h, 1d, 5d, 1wk, 1mo, 3mo]\n",
    "dataset_train = yf.download(\"TSLA\", start=\"2022-12-01\", end=\"2023-07-01\", interval=\"1h\") #period=\"6mo\"\n",
    "len(dataset_train)"
   ]
  },
  {
   "cell_type": "code",
   "execution_count": 137,
   "metadata": {},
   "outputs": [
    {
     "data": {
      "text/html": [
       "<div>\n",
       "<style scoped>\n",
       "    .dataframe tbody tr th:only-of-type {\n",
       "        vertical-align: middle;\n",
       "    }\n",
       "\n",
       "    .dataframe tbody tr th {\n",
       "        vertical-align: top;\n",
       "    }\n",
       "\n",
       "    .dataframe thead th {\n",
       "        text-align: right;\n",
       "    }\n",
       "</style>\n",
       "<table border=\"1\" class=\"dataframe\">\n",
       "  <thead>\n",
       "    <tr style=\"text-align: right;\">\n",
       "      <th></th>\n",
       "      <th>Open</th>\n",
       "      <th>High</th>\n",
       "      <th>Low</th>\n",
       "      <th>Close</th>\n",
       "      <th>Adj Close</th>\n",
       "      <th>Volume</th>\n",
       "    </tr>\n",
       "    <tr>\n",
       "      <th>Datetime</th>\n",
       "      <th></th>\n",
       "      <th></th>\n",
       "      <th></th>\n",
       "      <th></th>\n",
       "      <th></th>\n",
       "      <th></th>\n",
       "    </tr>\n",
       "  </thead>\n",
       "  <tbody>\n",
       "    <tr>\n",
       "      <th>2022-12-01 09:30:00-05:00</th>\n",
       "      <td>197.080002</td>\n",
       "      <td>198.919998</td>\n",
       "      <td>191.800003</td>\n",
       "      <td>192.550903</td>\n",
       "      <td>192.550903</td>\n",
       "      <td>29119215</td>\n",
       "    </tr>\n",
       "    <tr>\n",
       "      <th>2022-12-01 10:30:00-05:00</th>\n",
       "      <td>192.556305</td>\n",
       "      <td>196.699997</td>\n",
       "      <td>191.800003</td>\n",
       "      <td>194.715500</td>\n",
       "      <td>194.715500</td>\n",
       "      <td>15565256</td>\n",
       "    </tr>\n",
       "    <tr>\n",
       "      <th>2022-12-01 11:30:00-05:00</th>\n",
       "      <td>194.690002</td>\n",
       "      <td>196.050003</td>\n",
       "      <td>193.750000</td>\n",
       "      <td>194.660004</td>\n",
       "      <td>194.660004</td>\n",
       "      <td>8154285</td>\n",
       "    </tr>\n",
       "    <tr>\n",
       "      <th>2022-12-01 12:30:00-05:00</th>\n",
       "      <td>194.639999</td>\n",
       "      <td>196.324600</td>\n",
       "      <td>194.050003</td>\n",
       "      <td>194.869995</td>\n",
       "      <td>194.869995</td>\n",
       "      <td>6870148</td>\n",
       "    </tr>\n",
       "    <tr>\n",
       "      <th>2022-12-01 13:30:00-05:00</th>\n",
       "      <td>194.860001</td>\n",
       "      <td>195.399994</td>\n",
       "      <td>194.289993</td>\n",
       "      <td>194.710007</td>\n",
       "      <td>194.710007</td>\n",
       "      <td>5642394</td>\n",
       "    </tr>\n",
       "    <tr>\n",
       "      <th>...</th>\n",
       "      <td>...</td>\n",
       "      <td>...</td>\n",
       "      <td>...</td>\n",
       "      <td>...</td>\n",
       "      <td>...</td>\n",
       "      <td>...</td>\n",
       "    </tr>\n",
       "    <tr>\n",
       "      <th>2023-06-30 11:30:00-04:00</th>\n",
       "      <td>263.850006</td>\n",
       "      <td>263.875000</td>\n",
       "      <td>261.600006</td>\n",
       "      <td>263.695007</td>\n",
       "      <td>263.695007</td>\n",
       "      <td>13867972</td>\n",
       "    </tr>\n",
       "    <tr>\n",
       "      <th>2023-06-30 12:30:00-04:00</th>\n",
       "      <td>263.700012</td>\n",
       "      <td>264.089996</td>\n",
       "      <td>263.029999</td>\n",
       "      <td>263.385010</td>\n",
       "      <td>263.385010</td>\n",
       "      <td>9951960</td>\n",
       "    </tr>\n",
       "    <tr>\n",
       "      <th>2023-06-30 13:30:00-04:00</th>\n",
       "      <td>263.380005</td>\n",
       "      <td>263.929993</td>\n",
       "      <td>262.559998</td>\n",
       "      <td>262.809998</td>\n",
       "      <td>262.809998</td>\n",
       "      <td>9358361</td>\n",
       "    </tr>\n",
       "    <tr>\n",
       "      <th>2023-06-30 14:30:00-04:00</th>\n",
       "      <td>262.820007</td>\n",
       "      <td>263.160004</td>\n",
       "      <td>262.010010</td>\n",
       "      <td>262.998993</td>\n",
       "      <td>262.998993</td>\n",
       "      <td>11522906</td>\n",
       "    </tr>\n",
       "    <tr>\n",
       "      <th>2023-06-30 15:30:00-04:00</th>\n",
       "      <td>262.980011</td>\n",
       "      <td>263.098389</td>\n",
       "      <td>261.630005</td>\n",
       "      <td>261.679108</td>\n",
       "      <td>261.679108</td>\n",
       "      <td>9086213</td>\n",
       "    </tr>\n",
       "  </tbody>\n",
       "</table>\n",
       "<p>1015 rows × 6 columns</p>\n",
       "</div>"
      ],
      "text/plain": [
       "                                 Open        High         Low       Close  \\\n",
       "Datetime                                                                    \n",
       "2022-12-01 09:30:00-05:00  197.080002  198.919998  191.800003  192.550903   \n",
       "2022-12-01 10:30:00-05:00  192.556305  196.699997  191.800003  194.715500   \n",
       "2022-12-01 11:30:00-05:00  194.690002  196.050003  193.750000  194.660004   \n",
       "2022-12-01 12:30:00-05:00  194.639999  196.324600  194.050003  194.869995   \n",
       "2022-12-01 13:30:00-05:00  194.860001  195.399994  194.289993  194.710007   \n",
       "...                               ...         ...         ...         ...   \n",
       "2023-06-30 11:30:00-04:00  263.850006  263.875000  261.600006  263.695007   \n",
       "2023-06-30 12:30:00-04:00  263.700012  264.089996  263.029999  263.385010   \n",
       "2023-06-30 13:30:00-04:00  263.380005  263.929993  262.559998  262.809998   \n",
       "2023-06-30 14:30:00-04:00  262.820007  263.160004  262.010010  262.998993   \n",
       "2023-06-30 15:30:00-04:00  262.980011  263.098389  261.630005  261.679108   \n",
       "\n",
       "                            Adj Close    Volume  \n",
       "Datetime                                         \n",
       "2022-12-01 09:30:00-05:00  192.550903  29119215  \n",
       "2022-12-01 10:30:00-05:00  194.715500  15565256  \n",
       "2022-12-01 11:30:00-05:00  194.660004   8154285  \n",
       "2022-12-01 12:30:00-05:00  194.869995   6870148  \n",
       "2022-12-01 13:30:00-05:00  194.710007   5642394  \n",
       "...                               ...       ...  \n",
       "2023-06-30 11:30:00-04:00  263.695007  13867972  \n",
       "2023-06-30 12:30:00-04:00  263.385010   9951960  \n",
       "2023-06-30 13:30:00-04:00  262.809998   9358361  \n",
       "2023-06-30 14:30:00-04:00  262.998993  11522906  \n",
       "2023-06-30 15:30:00-04:00  261.679108   9086213  \n",
       "\n",
       "[1015 rows x 6 columns]"
      ]
     },
     "execution_count": 137,
     "metadata": {},
     "output_type": "execute_result"
    }
   ],
   "source": [
    "#dataset_train.head()\n",
    "dataset_train"
   ]
  },
  {
   "cell_type": "code",
   "execution_count": 138,
   "metadata": {},
   "outputs": [
    {
     "data": {
      "text/plain": [
       "(1015, 1)"
      ]
     },
     "execution_count": 138,
     "metadata": {},
     "output_type": "execute_result"
    }
   ],
   "source": [
    "training_set = dataset_train.iloc[:, 0:1].values\n",
    "training_set.shape"
   ]
  },
  {
   "cell_type": "code",
   "execution_count": 139,
   "metadata": {},
   "outputs": [],
   "source": [
    "from sklearn.preprocessing import MinMaxScaler\n",
    "sc = MinMaxScaler(feature_range=(0,1))"
   ]
  },
  {
   "cell_type": "code",
   "execution_count": 140,
   "metadata": {},
   "outputs": [],
   "source": [
    "training_set_scaled = sc.fit_transform(training_set)"
   ]
  },
  {
   "cell_type": "code",
   "execution_count": 141,
   "metadata": {},
   "outputs": [
    {
     "name": "stdout",
     "output_type": "stream",
     "text": [
      "(948, 60) (948,)\n",
      "(948, 60, 1) (948,)\n"
     ]
    }
   ],
   "source": [
    "X_train = []\n",
    "y_train = []\n",
    "for i in range(60, 1008):\n",
    "    X_train.append(training_set_scaled[i-60:i, 0])\n",
    "    y_train.append(training_set_scaled[i, 0])\n",
    "X_train, y_train = np.array(X_train), np.array(y_train)\n",
    "print(X_train.shape, y_train.shape)\n",
    "X_train = np.reshape(X_train, (X_train.shape[0], X_train.shape[1], 1))\n",
    "print(X_train.shape, y_train.shape)\n"
   ]
  },
  {
   "cell_type": "code",
   "execution_count": 142,
   "metadata": {},
   "outputs": [],
   "source": [
    "from keras.models import Sequential\n",
    "from keras.layers import LSTM\n",
    "from keras.layers import Dropout\n",
    "from keras.layers import Dense"
   ]
  },
  {
   "cell_type": "code",
   "execution_count": 143,
   "metadata": {},
   "outputs": [],
   "source": [
    "model = Sequential()\n",
    "model.add(LSTM(units=50,return_sequences=True,input_shape=(X_train.shape[1], 1)))\n",
    "model.add(Dropout(0.2))\n",
    "model.add(LSTM(units=50,return_sequences=True))\n",
    "model.add(Dropout(0.2))\n",
    "model.add(LSTM(units=50,return_sequences=True))\n",
    "model.add(Dropout(0.2))\n",
    "model.add(LSTM(units=50))\n",
    "model.add(Dropout(0.2))\n",
    "model.add(Dense(units=1))\n",
    "model.compile(optimizer='adam',loss='mean_squared_error')"
   ]
  },
  {
   "cell_type": "code",
   "execution_count": 144,
   "metadata": {},
   "outputs": [
    {
     "name": "stdout",
     "output_type": "stream",
     "text": [
      "Model: \"sequential_4\"\n",
      "_________________________________________________________________\n",
      " Layer (type)                Output Shape              Param #   \n",
      "=================================================================\n",
      " lstm_16 (LSTM)              (None, 60, 50)            10400     \n",
      "                                                                 \n",
      " dropout_16 (Dropout)        (None, 60, 50)            0         \n",
      "                                                                 \n",
      " lstm_17 (LSTM)              (None, 60, 50)            20200     \n",
      "                                                                 \n",
      " dropout_17 (Dropout)        (None, 60, 50)            0         \n",
      "                                                                 \n",
      " lstm_18 (LSTM)              (None, 60, 50)            20200     \n",
      "                                                                 \n",
      " dropout_18 (Dropout)        (None, 60, 50)            0         \n",
      "                                                                 \n",
      " lstm_19 (LSTM)              (None, 50)                20200     \n",
      "                                                                 \n",
      " dropout_19 (Dropout)        (None, 50)                0         \n",
      "                                                                 \n",
      " dense_4 (Dense)             (None, 1)                 51        \n",
      "                                                                 \n",
      "=================================================================\n",
      "Total params: 71051 (277.54 KB)\n",
      "Trainable params: 71051 (277.54 KB)\n",
      "Non-trainable params: 0 (0.00 Byte)\n",
      "_________________________________________________________________\n"
     ]
    }
   ],
   "source": [
    "model.summary()"
   ]
  },
  {
   "cell_type": "code",
   "execution_count": null,
   "metadata": {},
   "outputs": [],
   "source": []
  },
  {
   "attachments": {},
   "cell_type": "markdown",
   "metadata": {},
   "source": [
    "# Training"
   ]
  },
  {
   "cell_type": "code",
   "execution_count": 145,
   "metadata": {},
   "outputs": [
    {
     "name": "stdout",
     "output_type": "stream",
     "text": [
      "Epoch 1/100\n"
     ]
    },
    {
     "name": "stdout",
     "output_type": "stream",
     "text": [
      "30/30 [==============================] - 9s 92ms/step - loss: 0.0356\n",
      "Epoch 2/100\n",
      "30/30 [==============================] - 3s 95ms/step - loss: 0.0058\n",
      "Epoch 3/100\n",
      "30/30 [==============================] - 3s 91ms/step - loss: 0.0049\n",
      "Epoch 4/100\n",
      "30/30 [==============================] - 3s 92ms/step - loss: 0.0056\n",
      "Epoch 5/100\n",
      "30/30 [==============================] - 3s 91ms/step - loss: 0.0050\n",
      "Epoch 6/100\n",
      "30/30 [==============================] - 3s 93ms/step - loss: 0.0048\n",
      "Epoch 7/100\n",
      "30/30 [==============================] - 3s 97ms/step - loss: 0.0044\n",
      "Epoch 8/100\n",
      "30/30 [==============================] - 3s 90ms/step - loss: 0.0042\n",
      "Epoch 9/100\n",
      "30/30 [==============================] - 3s 95ms/step - loss: 0.0044\n",
      "Epoch 10/100\n",
      "30/30 [==============================] - 3s 90ms/step - loss: 0.0044\n",
      "Epoch 11/100\n",
      "30/30 [==============================] - 3s 90ms/step - loss: 0.0045\n",
      "Epoch 12/100\n",
      "30/30 [==============================] - 3s 92ms/step - loss: 0.0039\n",
      "Epoch 13/100\n",
      "30/30 [==============================] - 3s 95ms/step - loss: 0.0037\n",
      "Epoch 14/100\n",
      "30/30 [==============================] - 3s 91ms/step - loss: 0.0035\n",
      "Epoch 15/100\n",
      "30/30 [==============================] - 3s 94ms/step - loss: 0.0036\n",
      "Epoch 16/100\n",
      "30/30 [==============================] - 3s 92ms/step - loss: 0.0043\n",
      "Epoch 17/100\n",
      "30/30 [==============================] - 3s 94ms/step - loss: 0.0041\n",
      "Epoch 18/100\n",
      "30/30 [==============================] - 3s 92ms/step - loss: 0.0037\n",
      "Epoch 19/100\n",
      "30/30 [==============================] - 3s 89ms/step - loss: 0.0038\n",
      "Epoch 20/100\n",
      "30/30 [==============================] - 3s 91ms/step - loss: 0.0037\n",
      "Epoch 21/100\n",
      "30/30 [==============================] - 3s 93ms/step - loss: 0.0032\n",
      "Epoch 22/100\n",
      "30/30 [==============================] - 3s 91ms/step - loss: 0.0034\n",
      "Epoch 23/100\n",
      "30/30 [==============================] - 3s 89ms/step - loss: 0.0029\n",
      "Epoch 24/100\n",
      "30/30 [==============================] - 3s 94ms/step - loss: 0.0031\n",
      "Epoch 25/100\n",
      "30/30 [==============================] - 3s 90ms/step - loss: 0.0028\n",
      "Epoch 26/100\n",
      "30/30 [==============================] - 3s 92ms/step - loss: 0.0031\n",
      "Epoch 27/100\n",
      "30/30 [==============================] - 3s 90ms/step - loss: 0.0029\n",
      "Epoch 28/100\n",
      "30/30 [==============================] - 3s 97ms/step - loss: 0.0031\n",
      "Epoch 29/100\n",
      "30/30 [==============================] - 3s 90ms/step - loss: 0.0031\n",
      "Epoch 30/100\n",
      "30/30 [==============================] - 3s 90ms/step - loss: 0.0028\n",
      "Epoch 31/100\n",
      "30/30 [==============================] - 3s 91ms/step - loss: 0.0028\n",
      "Epoch 32/100\n",
      "30/30 [==============================] - 3s 92ms/step - loss: 0.0027\n",
      "Epoch 33/100\n",
      "30/30 [==============================] - 3s 94ms/step - loss: 0.0026\n",
      "Epoch 34/100\n",
      "30/30 [==============================] - 3s 89ms/step - loss: 0.0023\n",
      "Epoch 35/100\n",
      "30/30 [==============================] - 3s 96ms/step - loss: 0.0023\n",
      "Epoch 36/100\n",
      "30/30 [==============================] - 3s 92ms/step - loss: 0.0023\n",
      "Epoch 37/100\n",
      "30/30 [==============================] - 3s 90ms/step - loss: 0.0026\n",
      "Epoch 38/100\n",
      "30/30 [==============================] - 3s 91ms/step - loss: 0.0027\n",
      "Epoch 39/100\n",
      "30/30 [==============================] - 3s 93ms/step - loss: 0.0021\n",
      "Epoch 40/100\n",
      "30/30 [==============================] - 3s 90ms/step - loss: 0.0024\n",
      "Epoch 41/100\n",
      "30/30 [==============================] - 3s 91ms/step - loss: 0.0023\n",
      "Epoch 42/100\n",
      "30/30 [==============================] - 3s 95ms/step - loss: 0.0024\n",
      "Epoch 43/100\n",
      "30/30 [==============================] - 3s 94ms/step - loss: 0.0020\n",
      "Epoch 44/100\n",
      "30/30 [==============================] - 3s 91ms/step - loss: 0.0021\n",
      "Epoch 45/100\n",
      "30/30 [==============================] - 3s 93ms/step - loss: 0.0020\n",
      "Epoch 46/100\n",
      "30/30 [==============================] - 3s 92ms/step - loss: 0.0022\n",
      "Epoch 47/100\n",
      "30/30 [==============================] - 3s 94ms/step - loss: 0.0022\n",
      "Epoch 48/100\n",
      "30/30 [==============================] - 3s 90ms/step - loss: 0.0020\n",
      "Epoch 49/100\n",
      "30/30 [==============================] - 3s 91ms/step - loss: 0.0019\n",
      "Epoch 50/100\n",
      "30/30 [==============================] - 3s 90ms/step - loss: 0.0019\n",
      "Epoch 51/100\n",
      "30/30 [==============================] - 3s 94ms/step - loss: 0.0020\n",
      "Epoch 52/100\n",
      "30/30 [==============================] - 3s 90ms/step - loss: 0.0019\n",
      "Epoch 53/100\n",
      "30/30 [==============================] - 3s 91ms/step - loss: 0.0022\n",
      "Epoch 54/100\n",
      "30/30 [==============================] - 3s 94ms/step - loss: 0.0020\n",
      "Epoch 55/100\n",
      "30/30 [==============================] - 3s 90ms/step - loss: 0.0018\n",
      "Epoch 56/100\n",
      "30/30 [==============================] - 3s 95ms/step - loss: 0.0022\n",
      "Epoch 57/100\n",
      "30/30 [==============================] - 3s 90ms/step - loss: 0.0023\n",
      "Epoch 58/100\n",
      "30/30 [==============================] - 3s 95ms/step - loss: 0.0019\n",
      "Epoch 59/100\n",
      "30/30 [==============================] - 3s 91ms/step - loss: 0.0020\n",
      "Epoch 60/100\n",
      "30/30 [==============================] - 3s 92ms/step - loss: 0.0018\n",
      "Epoch 61/100\n",
      "30/30 [==============================] - 3s 91ms/step - loss: 0.0017\n",
      "Epoch 62/100\n",
      "30/30 [==============================] - 3s 93ms/step - loss: 0.0018\n",
      "Epoch 63/100\n",
      "30/30 [==============================] - 3s 90ms/step - loss: 0.0018\n",
      "Epoch 64/100\n",
      "30/30 [==============================] - 3s 92ms/step - loss: 0.0017\n",
      "Epoch 65/100\n",
      "30/30 [==============================] - 3s 94ms/step - loss: 0.0018\n",
      "Epoch 66/100\n",
      "30/30 [==============================] - 3s 94ms/step - loss: 0.0018\n",
      "Epoch 67/100\n",
      "30/30 [==============================] - 3s 91ms/step - loss: 0.0018\n",
      "Epoch 68/100\n",
      "30/30 [==============================] - 3s 92ms/step - loss: 0.0016\n",
      "Epoch 69/100\n",
      "30/30 [==============================] - 3s 92ms/step - loss: 0.0016\n",
      "Epoch 70/100\n",
      "30/30 [==============================] - 3s 92ms/step - loss: 0.0016\n",
      "Epoch 71/100\n",
      "30/30 [==============================] - 3s 94ms/step - loss: 0.0016\n",
      "Epoch 72/100\n",
      "30/30 [==============================] - 3s 91ms/step - loss: 0.0015\n",
      "Epoch 73/100\n",
      "30/30 [==============================] - 3s 92ms/step - loss: 0.0015\n",
      "Epoch 74/100\n",
      "30/30 [==============================] - 3s 90ms/step - loss: 0.0015\n",
      "Epoch 75/100\n",
      "30/30 [==============================] - 3s 91ms/step - loss: 0.0015\n",
      "Epoch 76/100\n",
      "30/30 [==============================] - 3s 89ms/step - loss: 0.0016\n",
      "Epoch 77/100\n",
      "30/30 [==============================] - 3s 99ms/step - loss: 0.0015\n",
      "Epoch 78/100\n",
      "30/30 [==============================] - 3s 90ms/step - loss: 0.0016\n",
      "Epoch 79/100\n",
      "30/30 [==============================] - 3s 91ms/step - loss: 0.0018\n",
      "Epoch 80/100\n",
      "30/30 [==============================] - 3s 91ms/step - loss: 0.0015\n",
      "Epoch 81/100\n",
      "30/30 [==============================] - 3s 92ms/step - loss: 0.0015\n",
      "Epoch 82/100\n",
      "30/30 [==============================] - 3s 89ms/step - loss: 0.0014\n",
      "Epoch 83/100\n",
      "30/30 [==============================] - 3s 92ms/step - loss: 0.0014\n",
      "Epoch 84/100\n",
      "30/30 [==============================] - 3s 94ms/step - loss: 0.0016\n",
      "Epoch 85/100\n",
      "30/30 [==============================] - 3s 91ms/step - loss: 0.0013\n",
      "Epoch 86/100\n",
      "30/30 [==============================] - 3s 89ms/step - loss: 0.0015\n",
      "Epoch 87/100\n",
      "30/30 [==============================] - 3s 90ms/step - loss: 0.0014\n",
      "Epoch 88/100\n",
      "30/30 [==============================] - 3s 92ms/step - loss: 0.0014\n",
      "Epoch 89/100\n",
      "30/30 [==============================] - 3s 92ms/step - loss: 0.0015\n",
      "Epoch 90/100\n",
      "30/30 [==============================] - 3s 90ms/step - loss: 0.0015\n",
      "Epoch 91/100\n",
      "30/30 [==============================] - 3s 90ms/step - loss: 0.0014\n",
      "Epoch 92/100\n",
      "30/30 [==============================] - 3s 91ms/step - loss: 0.0013\n",
      "Epoch 93/100\n",
      "30/30 [==============================] - 3s 95ms/step - loss: 0.0013\n",
      "Epoch 94/100\n",
      "30/30 [==============================] - 3s 89ms/step - loss: 0.0013\n",
      "Epoch 95/100\n",
      "30/30 [==============================] - 3s 89ms/step - loss: 0.0012\n",
      "Epoch 96/100\n",
      "30/30 [==============================] - 3s 92ms/step - loss: 0.0012\n",
      "Epoch 97/100\n",
      "30/30 [==============================] - 3s 89ms/step - loss: 0.0012\n",
      "Epoch 98/100\n",
      "30/30 [==============================] - 3s 95ms/step - loss: 0.0012\n",
      "Epoch 99/100\n",
      "30/30 [==============================] - 3s 91ms/step - loss: 0.0014\n",
      "Epoch 100/100\n",
      "30/30 [==============================] - 3s 91ms/step - loss: 0.0012\n"
     ]
    },
    {
     "data": {
      "text/plain": [
       "<keras.src.callbacks.History at 0x7ffb22ff36a0>"
      ]
     },
     "execution_count": 145,
     "metadata": {},
     "output_type": "execute_result"
    }
   ],
   "source": [
    "model.fit(X_train,y_train,epochs=100,batch_size=32)"
   ]
  },
  {
   "attachments": {},
   "cell_type": "markdown",
   "metadata": {},
   "source": [
    "## Predictions on Test set\n",
    "I take the next month for making predictions"
   ]
  },
  {
   "cell_type": "code",
   "execution_count": 146,
   "metadata": {},
   "outputs": [
    {
     "name": "stdout",
     "output_type": "stream",
     "text": [
      "[*********************100%***********************]  1 of 1 completed\n"
     ]
    },
    {
     "data": {
      "text/plain": [
       "73"
      ]
     },
     "execution_count": 146,
     "metadata": {},
     "output_type": "execute_result"
    }
   ],
   "source": [
    "# dataset_test = yf.download(\"MSFT\", start=\"2022-12-28\", end=\"2023-01-27\") # poner un dia mas del actual\n",
    "dataset_test = yf.download(\"TSLA\", start=\"2023-07-01\", end=\"2023-07-19\", interval=\"60m\") # va hasta el dia end -1\n",
    "len(dataset_test)"
   ]
  },
  {
   "cell_type": "code",
   "execution_count": 153,
   "metadata": {},
   "outputs": [
    {
     "data": {
      "text/html": [
       "<div>\n",
       "<style scoped>\n",
       "    .dataframe tbody tr th:only-of-type {\n",
       "        vertical-align: middle;\n",
       "    }\n",
       "\n",
       "    .dataframe tbody tr th {\n",
       "        vertical-align: top;\n",
       "    }\n",
       "\n",
       "    .dataframe thead th {\n",
       "        text-align: right;\n",
       "    }\n",
       "</style>\n",
       "<table border=\"1\" class=\"dataframe\">\n",
       "  <thead>\n",
       "    <tr style=\"text-align: right;\">\n",
       "      <th></th>\n",
       "      <th>Open</th>\n",
       "      <th>High</th>\n",
       "      <th>Low</th>\n",
       "      <th>Close</th>\n",
       "      <th>Adj Close</th>\n",
       "      <th>Volume</th>\n",
       "    </tr>\n",
       "    <tr>\n",
       "      <th>Datetime</th>\n",
       "      <th></th>\n",
       "      <th></th>\n",
       "      <th></th>\n",
       "      <th></th>\n",
       "      <th></th>\n",
       "      <th></th>\n",
       "    </tr>\n",
       "  </thead>\n",
       "  <tbody>\n",
       "    <tr>\n",
       "      <th>2023-06-30 11:30:00-04:00</th>\n",
       "      <td>263.850006</td>\n",
       "      <td>263.875000</td>\n",
       "      <td>261.600006</td>\n",
       "      <td>263.695007</td>\n",
       "      <td>263.695007</td>\n",
       "      <td>13867972</td>\n",
       "    </tr>\n",
       "    <tr>\n",
       "      <th>2023-06-30 12:30:00-04:00</th>\n",
       "      <td>263.700012</td>\n",
       "      <td>264.089996</td>\n",
       "      <td>263.029999</td>\n",
       "      <td>263.385010</td>\n",
       "      <td>263.385010</td>\n",
       "      <td>9951960</td>\n",
       "    </tr>\n",
       "    <tr>\n",
       "      <th>2023-06-30 13:30:00-04:00</th>\n",
       "      <td>263.380005</td>\n",
       "      <td>263.929993</td>\n",
       "      <td>262.559998</td>\n",
       "      <td>262.809998</td>\n",
       "      <td>262.809998</td>\n",
       "      <td>9358361</td>\n",
       "    </tr>\n",
       "    <tr>\n",
       "      <th>2023-06-30 14:30:00-04:00</th>\n",
       "      <td>262.820007</td>\n",
       "      <td>263.160004</td>\n",
       "      <td>262.010010</td>\n",
       "      <td>262.998993</td>\n",
       "      <td>262.998993</td>\n",
       "      <td>11522906</td>\n",
       "    </tr>\n",
       "    <tr>\n",
       "      <th>2023-06-30 15:30:00-04:00</th>\n",
       "      <td>262.980011</td>\n",
       "      <td>263.098389</td>\n",
       "      <td>261.630005</td>\n",
       "      <td>261.679108</td>\n",
       "      <td>261.679108</td>\n",
       "      <td>9086213</td>\n",
       "    </tr>\n",
       "  </tbody>\n",
       "</table>\n",
       "</div>"
      ],
      "text/plain": [
       "                                 Open        High         Low       Close  \\\n",
       "Datetime                                                                    \n",
       "2023-06-30 11:30:00-04:00  263.850006  263.875000  261.600006  263.695007   \n",
       "2023-06-30 12:30:00-04:00  263.700012  264.089996  263.029999  263.385010   \n",
       "2023-06-30 13:30:00-04:00  263.380005  263.929993  262.559998  262.809998   \n",
       "2023-06-30 14:30:00-04:00  262.820007  263.160004  262.010010  262.998993   \n",
       "2023-06-30 15:30:00-04:00  262.980011  263.098389  261.630005  261.679108   \n",
       "\n",
       "                            Adj Close    Volume  \n",
       "Datetime                                         \n",
       "2023-06-30 11:30:00-04:00  263.695007  13867972  \n",
       "2023-06-30 12:30:00-04:00  263.385010   9951960  \n",
       "2023-06-30 13:30:00-04:00  262.809998   9358361  \n",
       "2023-06-30 14:30:00-04:00  262.998993  11522906  \n",
       "2023-06-30 15:30:00-04:00  261.679108   9086213  "
      ]
     },
     "execution_count": 153,
     "metadata": {},
     "output_type": "execute_result"
    }
   ],
   "source": [
    "dataset_train.tail()"
   ]
  },
  {
   "cell_type": "code",
   "execution_count": 163,
   "metadata": {},
   "outputs": [
    {
     "data": {
      "text/html": [
       "<div>\n",
       "<style scoped>\n",
       "    .dataframe tbody tr th:only-of-type {\n",
       "        vertical-align: middle;\n",
       "    }\n",
       "\n",
       "    .dataframe tbody tr th {\n",
       "        vertical-align: top;\n",
       "    }\n",
       "\n",
       "    .dataframe thead th {\n",
       "        text-align: right;\n",
       "    }\n",
       "</style>\n",
       "<table border=\"1\" class=\"dataframe\">\n",
       "  <thead>\n",
       "    <tr style=\"text-align: right;\">\n",
       "      <th></th>\n",
       "      <th>Open</th>\n",
       "      <th>High</th>\n",
       "      <th>Low</th>\n",
       "      <th>Close</th>\n",
       "      <th>Adj Close</th>\n",
       "      <th>Volume</th>\n",
       "    </tr>\n",
       "    <tr>\n",
       "      <th>Datetime</th>\n",
       "      <th></th>\n",
       "      <th></th>\n",
       "      <th></th>\n",
       "      <th></th>\n",
       "      <th></th>\n",
       "      <th></th>\n",
       "    </tr>\n",
       "  </thead>\n",
       "  <tbody>\n",
       "    <tr>\n",
       "      <th>2023-07-18 11:30:00</th>\n",
       "      <td>288.905090</td>\n",
       "      <td>288.980011</td>\n",
       "      <td>287.500000</td>\n",
       "      <td>288.459991</td>\n",
       "      <td>288.459991</td>\n",
       "      <td>10907592</td>\n",
       "    </tr>\n",
       "    <tr>\n",
       "      <th>2023-07-18 12:30:00</th>\n",
       "      <td>288.450012</td>\n",
       "      <td>291.399994</td>\n",
       "      <td>288.350006</td>\n",
       "      <td>290.660004</td>\n",
       "      <td>290.660004</td>\n",
       "      <td>13049077</td>\n",
       "    </tr>\n",
       "    <tr>\n",
       "      <th>2023-07-18 13:30:00</th>\n",
       "      <td>290.679993</td>\n",
       "      <td>292.260010</td>\n",
       "      <td>290.329987</td>\n",
       "      <td>291.899994</td>\n",
       "      <td>291.899994</td>\n",
       "      <td>10255032</td>\n",
       "    </tr>\n",
       "    <tr>\n",
       "      <th>2023-07-18 14:30:00</th>\n",
       "      <td>291.894989</td>\n",
       "      <td>293.769989</td>\n",
       "      <td>291.592987</td>\n",
       "      <td>292.799988</td>\n",
       "      <td>292.799988</td>\n",
       "      <td>13878426</td>\n",
       "    </tr>\n",
       "    <tr>\n",
       "      <th>2023-07-18 15:30:00</th>\n",
       "      <td>292.799988</td>\n",
       "      <td>295.260010</td>\n",
       "      <td>292.750000</td>\n",
       "      <td>293.369995</td>\n",
       "      <td>293.369995</td>\n",
       "      <td>12363523</td>\n",
       "    </tr>\n",
       "  </tbody>\n",
       "</table>\n",
       "</div>"
      ],
      "text/plain": [
       "                           Open        High         Low       Close  \\\n",
       "Datetime                                                              \n",
       "2023-07-18 11:30:00  288.905090  288.980011  287.500000  288.459991   \n",
       "2023-07-18 12:30:00  288.450012  291.399994  288.350006  290.660004   \n",
       "2023-07-18 13:30:00  290.679993  292.260010  290.329987  291.899994   \n",
       "2023-07-18 14:30:00  291.894989  293.769989  291.592987  292.799988   \n",
       "2023-07-18 15:30:00  292.799988  295.260010  292.750000  293.369995   \n",
       "\n",
       "                      Adj Close    Volume  \n",
       "Datetime                                   \n",
       "2023-07-18 11:30:00  288.459991  10907592  \n",
       "2023-07-18 12:30:00  290.660004  13049077  \n",
       "2023-07-18 13:30:00  291.899994  10255032  \n",
       "2023-07-18 14:30:00  292.799988  13878426  \n",
       "2023-07-18 15:30:00  293.369995  12363523  "
      ]
     },
     "execution_count": 163,
     "metadata": {},
     "output_type": "execute_result"
    }
   ],
   "source": [
    "dataset_test.tail()"
   ]
  },
  {
   "cell_type": "code",
   "execution_count": null,
   "metadata": {},
   "outputs": [],
   "source": []
  },
  {
   "cell_type": "code",
   "execution_count": 149,
   "metadata": {},
   "outputs": [],
   "source": [
    "real_stock_price = dataset_test.iloc[:, 0:1].values"
   ]
  },
  {
   "cell_type": "code",
   "execution_count": 150,
   "metadata": {},
   "outputs": [
    {
     "data": {
      "text/plain": [
       "((73, 6), (1015, 6))"
      ]
     },
     "execution_count": 150,
     "metadata": {},
     "output_type": "execute_result"
    }
   ],
   "source": [
    "dataset_test.shape, dataset_train.shape"
   ]
  },
  {
   "cell_type": "code",
   "execution_count": 154,
   "metadata": {},
   "outputs": [
    {
     "data": {
      "text/plain": [
       "(1088,)"
      ]
     },
     "execution_count": 154,
     "metadata": {},
     "output_type": "execute_result"
    }
   ],
   "source": [
    "dataset_total = pd.concat((dataset_train['Open'], dataset_test['Open']), axis = 0)\n",
    "dataset_total.shape"
   ]
  },
  {
   "cell_type": "code",
   "execution_count": 155,
   "metadata": {},
   "outputs": [
    {
     "data": {
      "text/plain": [
       "(133,)"
      ]
     },
     "execution_count": 155,
     "metadata": {},
     "output_type": "execute_result"
    }
   ],
   "source": [
    "inputs = dataset_total[len(dataset_total) - len(dataset_test) - 60:].values\n",
    "inputs.shape"
   ]
  },
  {
   "cell_type": "code",
   "execution_count": 157,
   "metadata": {},
   "outputs": [
    {
     "data": {
      "text/plain": [
       "(133, 1)"
      ]
     },
     "execution_count": 157,
     "metadata": {},
     "output_type": "execute_result"
    }
   ],
   "source": [
    "inputs = inputs.reshape(-1,1)\n",
    "inputs = sc.transform(inputs)\n",
    "inputs.shape"
   ]
  },
  {
   "cell_type": "code",
   "execution_count": 158,
   "metadata": {},
   "outputs": [
    {
     "data": {
      "text/plain": [
       "(73, 60, 1)"
      ]
     },
     "execution_count": 158,
     "metadata": {},
     "output_type": "execute_result"
    }
   ],
   "source": [
    "X_test = []\n",
    "for i in range(60, len(inputs)):\n",
    "    X_test.append(inputs[i-60:i, 0])\n",
    "\n",
    "X_test = np.array(X_test)\n",
    "X_test = np.reshape(X_test, (X_test.shape[0], X_test.shape[1], 1))\n",
    "X_test.shape"
   ]
  },
  {
   "cell_type": "code",
   "execution_count": 161,
   "metadata": {},
   "outputs": [
    {
     "name": "stdout",
     "output_type": "stream",
     "text": [
      "3/3 [==============================] - 1s 24ms/step\n"
     ]
    }
   ],
   "source": [
    "predicted_stock_price = model.predict(X_test)\n",
    "predicted_stock_price = sc.inverse_transform(predicted_stock_price)"
   ]
  },
  {
   "cell_type": "code",
   "execution_count": 166,
   "metadata": {},
   "outputs": [
    {
     "data": {
      "image/png": "[encoded data removed]",
      "text/plain": [
       "<Figure size 640x480 with 1 Axes>"
      ]
     },
     "metadata": {},
     "output_type": "display_data"
    },
    {
     "data": {
      "text/plain": [
       "<Figure size 640x480 with 0 Axes>"
      ]
     },
     "metadata": {},
     "output_type": "display_data"
    }
   ],
   "source": [
    "plt.plot(real_stock_price, color = 'black', label = 'Tesla Stock Price')\n",
    "plt.plot(predicted_stock_price, color = 'green', label = 'Predicted Tesla Stock Price')\n",
    "plt.title('Tesla Stock Price Prediction')\n",
    "plt.xlabel('Time')\n",
    "plt.ylabel('Tesla Stock Price')\n",
    "plt.legend()\n",
    "plt.show()\n",
    "plt.savefig(\"TeslaStocks.pdf\", format=\"pdf\", bbox_inches=\"tight\")"
   ]
  },
  {
   "cell_type": "code",
   "execution_count": 165,
   "metadata": {},
   "outputs": [],
   "source": [
    "#real_stock_price"
   ]
  },
  {
   "cell_type": "code",
   "execution_count": null,
   "metadata": {},
   "outputs": [],
   "source": []
  }
 ],
 "metadata": {
  "kernelspec": {
   "display_name": "Python 3",
   "language": "python",
   "name": "python3"
  },
  "language_info": {
   "codemirror_mode": {
    "name": "ipython",
    "version": 3
   },
   "file_extension": ".py",
   "mimetype": "text/x-python",
   "name": "python",
   "nbconvert_exporter": "python",
   "pygments_lexer": "ipython3",
   "version": "3.10.8"
  },
  "orig_nbformat": 4,
  "vscode": {
   "interpreter": {
    "hash": "3ad933181bd8a04b432d3370b9dc3b0662ad032c4dfaa4e4f1596c548f763858"
   }
  }
 },
 "nbformat": 4,
 "nbformat_minor": 2
}

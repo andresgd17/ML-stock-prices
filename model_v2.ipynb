{
 "cells": [
  {
   "cell_type": "markdown",
   "metadata": {},
   "source": [
    "# Get current stock price data"
   ]
  },
  {
   "cell_type": "code",
   "execution_count": 20,
   "metadata": {},
   "outputs": [],
   "source": [
    "import yfinance as yf\n",
    "import numpy as np\n",
    "import matplotlib.pyplot as plt\n",
    "import pandas as pd "
   ]
  },
  {
   "cell_type": "code",
   "execution_count": 5,
   "metadata": {},
   "outputs": [],
   "source": [
    "msft = yf.Ticker(\"MSFT\")"
   ]
  },
  {
   "cell_type": "code",
   "execution_count": 9,
   "metadata": {},
   "outputs": [],
   "source": [
    "#msft.history(period='6mo')"
   ]
  },
  {
   "cell_type": "code",
   "execution_count": 38,
   "metadata": {},
   "outputs": [
    {
     "name": "stdout",
     "output_type": "stream",
     "text": [
      "[*********************100%***********************]  1 of 1 completed\n"
     ]
    }
   ],
   "source": [
    "dataset_train = yf.download(\"MSFT\", start=\"2022-01-27\", end=\"2022-12-27\") # poner un dia mas del actual"
   ]
  },
  {
   "cell_type": "code",
   "execution_count": 39,
   "metadata": {},
   "outputs": [
    {
     "data": {
      "text/html": [
       "<div>\n",
       "<style scoped>\n",
       "    .dataframe tbody tr th:only-of-type {\n",
       "        vertical-align: middle;\n",
       "    }\n",
       "\n",
       "    .dataframe tbody tr th {\n",
       "        vertical-align: top;\n",
       "    }\n",
       "\n",
       "    .dataframe thead th {\n",
       "        text-align: right;\n",
       "    }\n",
       "</style>\n",
       "<table border=\"1\" class=\"dataframe\">\n",
       "  <thead>\n",
       "    <tr style=\"text-align: right;\">\n",
       "      <th></th>\n",
       "      <th>Open</th>\n",
       "      <th>High</th>\n",
       "      <th>Low</th>\n",
       "      <th>Close</th>\n",
       "      <th>Adj Close</th>\n",
       "      <th>Volume</th>\n",
       "    </tr>\n",
       "    <tr>\n",
       "      <th>Date</th>\n",
       "      <th></th>\n",
       "      <th></th>\n",
       "      <th></th>\n",
       "      <th></th>\n",
       "      <th></th>\n",
       "      <th></th>\n",
       "    </tr>\n",
       "  </thead>\n",
       "  <tbody>\n",
       "    <tr>\n",
       "      <th>2022-01-27 00:00:00-05:00</th>\n",
       "      <td>302.660004</td>\n",
       "      <td>307.299988</td>\n",
       "      <td>297.929993</td>\n",
       "      <td>299.839996</td>\n",
       "      <td>297.056519</td>\n",
       "      <td>53481300</td>\n",
       "    </tr>\n",
       "    <tr>\n",
       "      <th>2022-01-28 00:00:00-05:00</th>\n",
       "      <td>300.230011</td>\n",
       "      <td>308.480011</td>\n",
       "      <td>294.450012</td>\n",
       "      <td>308.260010</td>\n",
       "      <td>305.398346</td>\n",
       "      <td>49743700</td>\n",
       "    </tr>\n",
       "    <tr>\n",
       "      <th>2022-01-31 00:00:00-05:00</th>\n",
       "      <td>308.950012</td>\n",
       "      <td>312.380005</td>\n",
       "      <td>306.369995</td>\n",
       "      <td>310.980011</td>\n",
       "      <td>308.093140</td>\n",
       "      <td>46444500</td>\n",
       "    </tr>\n",
       "    <tr>\n",
       "      <th>2022-02-01 00:00:00-05:00</th>\n",
       "      <td>310.410004</td>\n",
       "      <td>310.630005</td>\n",
       "      <td>305.130005</td>\n",
       "      <td>308.760010</td>\n",
       "      <td>305.893738</td>\n",
       "      <td>40950400</td>\n",
       "    </tr>\n",
       "    <tr>\n",
       "      <th>2022-02-02 00:00:00-05:00</th>\n",
       "      <td>309.630005</td>\n",
       "      <td>315.119995</td>\n",
       "      <td>308.880005</td>\n",
       "      <td>313.459991</td>\n",
       "      <td>310.550079</td>\n",
       "      <td>36636000</td>\n",
       "    </tr>\n",
       "  </tbody>\n",
       "</table>\n",
       "</div>"
      ],
      "text/plain": [
       "                                 Open        High         Low       Close  \\\n",
       "Date                                                                        \n",
       "2022-01-27 00:00:00-05:00  302.660004  307.299988  297.929993  299.839996   \n",
       "2022-01-28 00:00:00-05:00  300.230011  308.480011  294.450012  308.260010   \n",
       "2022-01-31 00:00:00-05:00  308.950012  312.380005  306.369995  310.980011   \n",
       "2022-02-01 00:00:00-05:00  310.410004  310.630005  305.130005  308.760010   \n",
       "2022-02-02 00:00:00-05:00  309.630005  315.119995  308.880005  313.459991   \n",
       "\n",
       "                            Adj Close    Volume  \n",
       "Date                                             \n",
       "2022-01-27 00:00:00-05:00  297.056519  53481300  \n",
       "2022-01-28 00:00:00-05:00  305.398346  49743700  \n",
       "2022-01-31 00:00:00-05:00  308.093140  46444500  \n",
       "2022-02-01 00:00:00-05:00  305.893738  40950400  \n",
       "2022-02-02 00:00:00-05:00  310.550079  36636000  "
      ]
     },
     "execution_count": 39,
     "metadata": {},
     "output_type": "execute_result"
    }
   ],
   "source": [
    "dataset_train.head()"
   ]
  },
  {
   "cell_type": "code",
   "execution_count": 40,
   "metadata": {},
   "outputs": [
    {
     "data": {
      "text/plain": [
       "(230, 1)"
      ]
     },
     "execution_count": 40,
     "metadata": {},
     "output_type": "execute_result"
    }
   ],
   "source": [
    "training_set = dataset_train.iloc[:, 0:1].values\n",
    "training_set.shape"
   ]
  },
  {
   "cell_type": "code",
   "execution_count": 41,
   "metadata": {},
   "outputs": [],
   "source": [
    "from sklearn.preprocessing import MinMaxScaler\n",
    "sc = MinMaxScaler(feature_range=(0,1))"
   ]
  },
  {
   "cell_type": "code",
   "execution_count": 42,
   "metadata": {},
   "outputs": [],
   "source": [
    "training_set_scaled = sc.fit_transform(training_set)"
   ]
  },
  {
   "cell_type": "code",
   "execution_count": 43,
   "metadata": {},
   "outputs": [
    {
     "name": "stdout",
     "output_type": "stream",
     "text": [
      "(67, 60) (67,)\n",
      "(67, 60, 1) (67,)\n"
     ]
    }
   ],
   "source": [
    "X_train = []\n",
    "y_train = []\n",
    "for i in range(60, 127):\n",
    "    X_train.append(training_set_scaled[i-60:i, 0])\n",
    "    y_train.append(training_set_scaled[i, 0])\n",
    "X_train, y_train = np.array(X_train), np.array(y_train)\n",
    "print(X_train.shape, y_train.shape)\n",
    "X_train = np.reshape(X_train, (X_train.shape[0], X_train.shape[1], 1))\n",
    "print(X_train.shape, y_train.shape)\n"
   ]
  },
  {
   "cell_type": "code",
   "execution_count": 44,
   "metadata": {},
   "outputs": [],
   "source": [
    "from keras.models import Sequential\n",
    "from keras.layers import LSTM\n",
    "from keras.layers import Dropout\n",
    "from keras.layers import Dense"
   ]
  },
  {
   "cell_type": "code",
   "execution_count": 45,
   "metadata": {},
   "outputs": [],
   "source": [
    "model = Sequential()\n",
    "model.add(LSTM(units=50,return_sequences=True,input_shape=(X_train.shape[1], 1)))\n",
    "model.add(Dropout(0.2))\n",
    "model.add(LSTM(units=50,return_sequences=True))\n",
    "model.add(Dropout(0.2))\n",
    "model.add(LSTM(units=50,return_sequences=True))\n",
    "model.add(Dropout(0.2))\n",
    "model.add(LSTM(units=50))\n",
    "model.add(Dropout(0.2))\n",
    "model.add(Dense(units=1))\n",
    "model.compile(optimizer='adam',loss='mean_squared_error')"
   ]
  },
  {
   "cell_type": "code",
   "execution_count": 46,
   "metadata": {},
   "outputs": [
    {
     "name": "stdout",
     "output_type": "stream",
     "text": [
      "Model: \"sequential_2\"\n",
      "_________________________________________________________________\n",
      " Layer (type)                Output Shape              Param #   \n",
      "=================================================================\n",
      " lstm_8 (LSTM)               (None, 60, 50)            10400     \n",
      "                                                                 \n",
      " dropout_8 (Dropout)         (None, 60, 50)            0         \n",
      "                                                                 \n",
      " lstm_9 (LSTM)               (None, 60, 50)            20200     \n",
      "                                                                 \n",
      " dropout_9 (Dropout)         (None, 60, 50)            0         \n",
      "                                                                 \n",
      " lstm_10 (LSTM)              (None, 60, 50)            20200     \n",
      "                                                                 \n",
      " dropout_10 (Dropout)        (None, 60, 50)            0         \n",
      "                                                                 \n",
      " lstm_11 (LSTM)              (None, 50)                20200     \n",
      "                                                                 \n",
      " dropout_11 (Dropout)        (None, 50)                0         \n",
      "                                                                 \n",
      " dense_2 (Dense)             (None, 1)                 51        \n",
      "                                                                 \n",
      "=================================================================\n",
      "Total params: 71,051\n",
      "Trainable params: 71,051\n",
      "Non-trainable params: 0\n",
      "_________________________________________________________________\n"
     ]
    }
   ],
   "source": [
    "model.summary()"
   ]
  },
  {
   "cell_type": "code",
   "execution_count": null,
   "metadata": {},
   "outputs": [],
   "source": []
  },
  {
   "attachments": {},
   "cell_type": "markdown",
   "metadata": {},
   "source": [
    "# Training"
   ]
  },
  {
   "cell_type": "code",
   "execution_count": 47,
   "metadata": {},
   "outputs": [
    {
     "name": "stdout",
     "output_type": "stream",
     "text": [
      "Epoch 1/50\n",
      "3/3 [==============================] - 16s 345ms/step - loss: 0.1981\n",
      "Epoch 2/50\n",
      "3/3 [==============================] - 1s 159ms/step - loss: 0.0490\n",
      "Epoch 3/50\n",
      "3/3 [==============================] - 1s 177ms/step - loss: 0.0347\n",
      "Epoch 4/50\n",
      "3/3 [==============================] - 0s 179ms/step - loss: 0.0146\n",
      "Epoch 5/50\n",
      "3/3 [==============================] - 1s 179ms/step - loss: 0.0240\n",
      "Epoch 6/50\n",
      "3/3 [==============================] - 1s 182ms/step - loss: 0.0146\n",
      "Epoch 7/50\n",
      "3/3 [==============================] - 1s 168ms/step - loss: 0.0103\n",
      "Epoch 8/50\n",
      "3/3 [==============================] - 0s 114ms/step - loss: 0.0195\n",
      "Epoch 9/50\n",
      "3/3 [==============================] - 0s 110ms/step - loss: 0.0129\n",
      "Epoch 10/50\n",
      "3/3 [==============================] - 0s 147ms/step - loss: 0.0116\n",
      "Epoch 11/50\n",
      "3/3 [==============================] - 0s 154ms/step - loss: 0.0178\n",
      "Epoch 12/50\n",
      "3/3 [==============================] - 1s 197ms/step - loss: 0.0131\n",
      "Epoch 13/50\n",
      "3/3 [==============================] - 0s 149ms/step - loss: 0.0125\n",
      "Epoch 14/50\n",
      "3/3 [==============================] - 0s 134ms/step - loss: 0.0125\n",
      "Epoch 15/50\n",
      "3/3 [==============================] - 0s 151ms/step - loss: 0.0081\n",
      "Epoch 16/50\n",
      "3/3 [==============================] - 1s 151ms/step - loss: 0.0121\n",
      "Epoch 17/50\n",
      "3/3 [==============================] - 1s 196ms/step - loss: 0.0107\n",
      "Epoch 18/50\n",
      "3/3 [==============================] - 1s 160ms/step - loss: 0.0102\n",
      "Epoch 19/50\n",
      "3/3 [==============================] - 1s 274ms/step - loss: 0.0129\n",
      "Epoch 20/50\n",
      "3/3 [==============================] - 1s 410ms/step - loss: 0.0103\n",
      "Epoch 21/50\n",
      "3/3 [==============================] - 1s 374ms/step - loss: 0.0118\n",
      "Epoch 22/50\n",
      "3/3 [==============================] - 1s 390ms/step - loss: 0.0087\n",
      "Epoch 23/50\n",
      "3/3 [==============================] - 1s 185ms/step - loss: 0.0089\n",
      "Epoch 24/50\n",
      "3/3 [==============================] - 1s 336ms/step - loss: 0.0110\n",
      "Epoch 25/50\n",
      "3/3 [==============================] - 1s 471ms/step - loss: 0.0138\n",
      "Epoch 26/50\n",
      "3/3 [==============================] - 1s 481ms/step - loss: 0.0100\n",
      "Epoch 27/50\n",
      "3/3 [==============================] - 1s 407ms/step - loss: 0.0139\n",
      "Epoch 28/50\n",
      "3/3 [==============================] - 1s 303ms/step - loss: 0.0103\n",
      "Epoch 29/50\n",
      "3/3 [==============================] - 1s 334ms/step - loss: 0.0128\n",
      "Epoch 30/50\n",
      "3/3 [==============================] - 1s 311ms/step - loss: 0.0139\n",
      "Epoch 31/50\n",
      "3/3 [==============================] - 1s 356ms/step - loss: 0.0111\n",
      "Epoch 32/50\n",
      "3/3 [==============================] - 1s 385ms/step - loss: 0.0115\n",
      "Epoch 33/50\n",
      "3/3 [==============================] - 1s 457ms/step - loss: 0.0102\n",
      "Epoch 34/50\n",
      "3/3 [==============================] - 1s 293ms/step - loss: 0.0116\n",
      "Epoch 35/50\n",
      "3/3 [==============================] - 1s 362ms/step - loss: 0.0117\n",
      "Epoch 36/50\n",
      "3/3 [==============================] - 1s 305ms/step - loss: 0.0090\n",
      "Epoch 37/50\n",
      "3/3 [==============================] - 1s 273ms/step - loss: 0.0120\n",
      "Epoch 38/50\n",
      "3/3 [==============================] - 1s 289ms/step - loss: 0.0122\n",
      "Epoch 39/50\n",
      "3/3 [==============================] - 1s 305ms/step - loss: 0.0125\n",
      "Epoch 40/50\n",
      "3/3 [==============================] - 1s 334ms/step - loss: 0.0103\n",
      "Epoch 41/50\n",
      "3/3 [==============================] - 1s 262ms/step - loss: 0.0107\n",
      "Epoch 42/50\n",
      "3/3 [==============================] - 1s 391ms/step - loss: 0.0115\n",
      "Epoch 43/50\n",
      "3/3 [==============================] - 1s 260ms/step - loss: 0.0089\n",
      "Epoch 44/50\n",
      "3/3 [==============================] - 1s 279ms/step - loss: 0.0111\n",
      "Epoch 45/50\n",
      "3/3 [==============================] - 1s 315ms/step - loss: 0.0094\n",
      "Epoch 46/50\n",
      "3/3 [==============================] - 1s 293ms/step - loss: 0.0112\n",
      "Epoch 47/50\n",
      "3/3 [==============================] - 1s 349ms/step - loss: 0.0108\n",
      "Epoch 48/50\n",
      "3/3 [==============================] - 1s 237ms/step - loss: 0.0119\n",
      "Epoch 49/50\n",
      "3/3 [==============================] - 1s 240ms/step - loss: 0.0110\n",
      "Epoch 50/50\n",
      "3/3 [==============================] - 1s 328ms/step - loss: 0.0105\n"
     ]
    },
    {
     "data": {
      "text/plain": [
       "<keras.callbacks.History at 0x7f1723fa9c60>"
      ]
     },
     "execution_count": 47,
     "metadata": {},
     "output_type": "execute_result"
    }
   ],
   "source": [
    "model.fit(X_train,y_train,epochs=50,batch_size=32)"
   ]
  },
  {
   "attachments": {},
   "cell_type": "markdown",
   "metadata": {},
   "source": [
    "## Predictions on Test set\n",
    "I take the next month for making predictions"
   ]
  },
  {
   "cell_type": "code",
   "execution_count": 48,
   "metadata": {},
   "outputs": [
    {
     "name": "stdout",
     "output_type": "stream",
     "text": [
      "[*********************100%***********************]  1 of 1 completed\n"
     ]
    }
   ],
   "source": [
    "dataset_test = yf.download(\"MSFT\", start=\"2022-12-28\", end=\"2023-01-27\") # poner un dia mas del actual"
   ]
  },
  {
   "cell_type": "code",
   "execution_count": 51,
   "metadata": {},
   "outputs": [
    {
     "data": {
      "text/html": [
       "<div>\n",
       "<style scoped>\n",
       "    .dataframe tbody tr th:only-of-type {\n",
       "        vertical-align: middle;\n",
       "    }\n",
       "\n",
       "    .dataframe tbody tr th {\n",
       "        vertical-align: top;\n",
       "    }\n",
       "\n",
       "    .dataframe thead th {\n",
       "        text-align: right;\n",
       "    }\n",
       "</style>\n",
       "<table border=\"1\" class=\"dataframe\">\n",
       "  <thead>\n",
       "    <tr style=\"text-align: right;\">\n",
       "      <th></th>\n",
       "      <th>Open</th>\n",
       "      <th>High</th>\n",
       "      <th>Low</th>\n",
       "      <th>Close</th>\n",
       "      <th>Adj Close</th>\n",
       "      <th>Volume</th>\n",
       "    </tr>\n",
       "    <tr>\n",
       "      <th>Date</th>\n",
       "      <th></th>\n",
       "      <th></th>\n",
       "      <th></th>\n",
       "      <th></th>\n",
       "      <th></th>\n",
       "      <th></th>\n",
       "    </tr>\n",
       "  </thead>\n",
       "  <tbody>\n",
       "    <tr>\n",
       "      <th>2022-12-28 00:00:00-05:00</th>\n",
       "      <td>236.889999</td>\n",
       "      <td>239.720001</td>\n",
       "      <td>234.169998</td>\n",
       "      <td>234.529999</td>\n",
       "      <td>234.529999</td>\n",
       "      <td>17457100</td>\n",
       "    </tr>\n",
       "    <tr>\n",
       "      <th>2022-12-29 00:00:00-05:00</th>\n",
       "      <td>235.649994</td>\n",
       "      <td>241.919998</td>\n",
       "      <td>235.649994</td>\n",
       "      <td>241.009995</td>\n",
       "      <td>241.009995</td>\n",
       "      <td>19770700</td>\n",
       "    </tr>\n",
       "    <tr>\n",
       "      <th>2022-12-30 00:00:00-05:00</th>\n",
       "      <td>238.210007</td>\n",
       "      <td>239.960007</td>\n",
       "      <td>236.660004</td>\n",
       "      <td>239.820007</td>\n",
       "      <td>239.820007</td>\n",
       "      <td>21930800</td>\n",
       "    </tr>\n",
       "    <tr>\n",
       "      <th>2023-01-03 00:00:00-05:00</th>\n",
       "      <td>243.080002</td>\n",
       "      <td>245.750000</td>\n",
       "      <td>237.399994</td>\n",
       "      <td>239.580002</td>\n",
       "      <td>239.580002</td>\n",
       "      <td>25740000</td>\n",
       "    </tr>\n",
       "    <tr>\n",
       "      <th>2023-01-04 00:00:00-05:00</th>\n",
       "      <td>232.279999</td>\n",
       "      <td>232.869995</td>\n",
       "      <td>225.960007</td>\n",
       "      <td>229.100006</td>\n",
       "      <td>229.100006</td>\n",
       "      <td>50623400</td>\n",
       "    </tr>\n",
       "  </tbody>\n",
       "</table>\n",
       "</div>"
      ],
      "text/plain": [
       "                                 Open        High         Low       Close  \\\n",
       "Date                                                                        \n",
       "2022-12-28 00:00:00-05:00  236.889999  239.720001  234.169998  234.529999   \n",
       "2022-12-29 00:00:00-05:00  235.649994  241.919998  235.649994  241.009995   \n",
       "2022-12-30 00:00:00-05:00  238.210007  239.960007  236.660004  239.820007   \n",
       "2023-01-03 00:00:00-05:00  243.080002  245.750000  237.399994  239.580002   \n",
       "2023-01-04 00:00:00-05:00  232.279999  232.869995  225.960007  229.100006   \n",
       "\n",
       "                            Adj Close    Volume  \n",
       "Date                                             \n",
       "2022-12-28 00:00:00-05:00  234.529999  17457100  \n",
       "2022-12-29 00:00:00-05:00  241.009995  19770700  \n",
       "2022-12-30 00:00:00-05:00  239.820007  21930800  \n",
       "2023-01-03 00:00:00-05:00  239.580002  25740000  \n",
       "2023-01-04 00:00:00-05:00  229.100006  50623400  "
      ]
     },
     "execution_count": 51,
     "metadata": {},
     "output_type": "execute_result"
    }
   ],
   "source": [
    "dataset_test.head()"
   ]
  },
  {
   "cell_type": "code",
   "execution_count": 52,
   "metadata": {},
   "outputs": [],
   "source": [
    "real_stock_price = dataset_test.iloc[:, 0:1].values"
   ]
  },
  {
   "cell_type": "code",
   "execution_count": 54,
   "metadata": {},
   "outputs": [
    {
     "data": {
      "text/plain": [
       "((20, 6), (230, 6))"
      ]
     },
     "execution_count": 54,
     "metadata": {},
     "output_type": "execute_result"
    }
   ],
   "source": [
    "dataset_test.shape, dataset_train.shape"
   ]
  },
  {
   "cell_type": "code",
   "execution_count": 55,
   "metadata": {},
   "outputs": [
    {
     "data": {
      "text/plain": [
       "(250,)"
      ]
     },
     "execution_count": 55,
     "metadata": {},
     "output_type": "execute_result"
    }
   ],
   "source": [
    "dataset_total = pd.concat((dataset_train['Open'], dataset_test['Open']), axis = 0)\n",
    "dataset_total.shape"
   ]
  },
  {
   "cell_type": "code",
   "execution_count": null,
   "metadata": {},
   "outputs": [],
   "source": [
    "inputs = dataset_total[len(dataset_total) - len(dataset_test) - 60:].values\n",
    "inputs.shape"
   ]
  },
  {
   "cell_type": "code",
   "execution_count": null,
   "metadata": {},
   "outputs": [],
   "source": []
  },
  {
   "cell_type": "code",
   "execution_count": null,
   "metadata": {},
   "outputs": [],
   "source": []
  },
  {
   "cell_type": "code",
   "execution_count": null,
   "metadata": {},
   "outputs": [],
   "source": []
  }
 ],
 "metadata": {
  "kernelspec": {
   "display_name": "Python 3",
   "language": "python",
   "name": "python3"
  },
  "language_info": {
   "codemirror_mode": {
    "name": "ipython",
    "version": 3
   },
   "file_extension": ".py",
   "mimetype": "text/x-python",
   "name": "python",
   "nbconvert_exporter": "python",
   "pygments_lexer": "ipython3",
   "version": "3.10.4"
  },
  "orig_nbformat": 4,
  "vscode": {
   "interpreter": {
    "hash": "3ad933181bd8a04b432d3370b9dc3b0662ad032c4dfaa4e4f1596c548f763858"
   }
  }
 },
 "nbformat": 4,
 "nbformat_minor": 2
}

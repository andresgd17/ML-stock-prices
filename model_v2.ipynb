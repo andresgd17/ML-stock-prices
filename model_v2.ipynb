{
 "cells": [
  {
   "cell_type": "markdown",
   "metadata": {},
   "source": [
    "# Get current stock price data"
   ]
  },
  {
   "cell_type": "code",
   "execution_count": 1,
   "metadata": {},
   "outputs": [],
   "source": [
    "import yfinance as yf\n",
    "import numpy as np\n",
    "import matplotlib.pyplot as plt\n",
    "import pandas as pd "
   ]
  },
  {
   "cell_type": "code",
   "execution_count": 2,
   "metadata": {},
   "outputs": [],
   "source": [
    "msft = yf.Ticker(\"MSFT\")"
   ]
  },
  {
   "cell_type": "code",
   "execution_count": 3,
   "metadata": {},
   "outputs": [],
   "source": [
    "#msft.history(period='6mo')"
   ]
  },
  {
   "cell_type": "code",
   "execution_count": 4,
   "metadata": {},
   "outputs": [
    {
     "name": "stdout",
     "output_type": "stream",
     "text": [
      "[*********************100%***********************]  1 of 1 completed\n"
     ]
    }
   ],
   "source": [
    "dataset_train = yf.download(\"MSFT\", start=\"2022-01-27\", end=\"2022-12-27\") # poner un dia mas del actual"
   ]
  },
  {
   "cell_type": "code",
   "execution_count": 5,
   "metadata": {},
   "outputs": [
    {
     "data": {
      "text/html": [
       "<div>\n",
       "<style scoped>\n",
       "    .dataframe tbody tr th:only-of-type {\n",
       "        vertical-align: middle;\n",
       "    }\n",
       "\n",
       "    .dataframe tbody tr th {\n",
       "        vertical-align: top;\n",
       "    }\n",
       "\n",
       "    .dataframe thead th {\n",
       "        text-align: right;\n",
       "    }\n",
       "</style>\n",
       "<table border=\"1\" class=\"dataframe\">\n",
       "  <thead>\n",
       "    <tr style=\"text-align: right;\">\n",
       "      <th></th>\n",
       "      <th>Open</th>\n",
       "      <th>High</th>\n",
       "      <th>Low</th>\n",
       "      <th>Close</th>\n",
       "      <th>Adj Close</th>\n",
       "      <th>Volume</th>\n",
       "    </tr>\n",
       "    <tr>\n",
       "      <th>Date</th>\n",
       "      <th></th>\n",
       "      <th></th>\n",
       "      <th></th>\n",
       "      <th></th>\n",
       "      <th></th>\n",
       "      <th></th>\n",
       "    </tr>\n",
       "  </thead>\n",
       "  <tbody>\n",
       "    <tr>\n",
       "      <th>2022-01-27 00:00:00-05:00</th>\n",
       "      <td>302.660004</td>\n",
       "      <td>307.299988</td>\n",
       "      <td>297.929993</td>\n",
       "      <td>299.839996</td>\n",
       "      <td>297.056549</td>\n",
       "      <td>53481300</td>\n",
       "    </tr>\n",
       "    <tr>\n",
       "      <th>2022-01-28 00:00:00-05:00</th>\n",
       "      <td>300.230011</td>\n",
       "      <td>308.480011</td>\n",
       "      <td>294.450012</td>\n",
       "      <td>308.260010</td>\n",
       "      <td>305.398376</td>\n",
       "      <td>49743700</td>\n",
       "    </tr>\n",
       "    <tr>\n",
       "      <th>2022-01-31 00:00:00-05:00</th>\n",
       "      <td>308.950012</td>\n",
       "      <td>312.380005</td>\n",
       "      <td>306.369995</td>\n",
       "      <td>310.980011</td>\n",
       "      <td>308.093109</td>\n",
       "      <td>46444500</td>\n",
       "    </tr>\n",
       "    <tr>\n",
       "      <th>2022-02-01 00:00:00-05:00</th>\n",
       "      <td>310.410004</td>\n",
       "      <td>310.630005</td>\n",
       "      <td>305.130005</td>\n",
       "      <td>308.760010</td>\n",
       "      <td>305.893707</td>\n",
       "      <td>40950400</td>\n",
       "    </tr>\n",
       "    <tr>\n",
       "      <th>2022-02-02 00:00:00-05:00</th>\n",
       "      <td>309.630005</td>\n",
       "      <td>315.119995</td>\n",
       "      <td>308.880005</td>\n",
       "      <td>313.459991</td>\n",
       "      <td>310.550079</td>\n",
       "      <td>36636000</td>\n",
       "    </tr>\n",
       "  </tbody>\n",
       "</table>\n",
       "</div>"
      ],
      "text/plain": [
       "                                 Open        High         Low       Close  \\\n",
       "Date                                                                        \n",
       "2022-01-27 00:00:00-05:00  302.660004  307.299988  297.929993  299.839996   \n",
       "2022-01-28 00:00:00-05:00  300.230011  308.480011  294.450012  308.260010   \n",
       "2022-01-31 00:00:00-05:00  308.950012  312.380005  306.369995  310.980011   \n",
       "2022-02-01 00:00:00-05:00  310.410004  310.630005  305.130005  308.760010   \n",
       "2022-02-02 00:00:00-05:00  309.630005  315.119995  308.880005  313.459991   \n",
       "\n",
       "                            Adj Close    Volume  \n",
       "Date                                             \n",
       "2022-01-27 00:00:00-05:00  297.056549  53481300  \n",
       "2022-01-28 00:00:00-05:00  305.398376  49743700  \n",
       "2022-01-31 00:00:00-05:00  308.093109  46444500  \n",
       "2022-02-01 00:00:00-05:00  305.893707  40950400  \n",
       "2022-02-02 00:00:00-05:00  310.550079  36636000  "
      ]
     },
     "execution_count": 5,
     "metadata": {},
     "output_type": "execute_result"
    }
   ],
   "source": [
    "dataset_train.head()"
   ]
  },
  {
   "cell_type": "code",
   "execution_count": 6,
   "metadata": {},
   "outputs": [
    {
     "data": {
      "text/plain": [
       "(230, 1)"
      ]
     },
     "execution_count": 6,
     "metadata": {},
     "output_type": "execute_result"
    }
   ],
   "source": [
    "training_set = dataset_train.iloc[:, 0:1].values\n",
    "training_set.shape"
   ]
  },
  {
   "cell_type": "code",
   "execution_count": 7,
   "metadata": {},
   "outputs": [],
   "source": [
    "from sklearn.preprocessing import MinMaxScaler\n",
    "sc = MinMaxScaler(feature_range=(0,1))"
   ]
  },
  {
   "cell_type": "code",
   "execution_count": 8,
   "metadata": {},
   "outputs": [],
   "source": [
    "training_set_scaled = sc.fit_transform(training_set)"
   ]
  },
  {
   "cell_type": "code",
   "execution_count": 9,
   "metadata": {},
   "outputs": [
    {
     "name": "stdout",
     "output_type": "stream",
     "text": [
      "(67, 60) (67,)\n",
      "(67, 60, 1) (67,)\n"
     ]
    }
   ],
   "source": [
    "X_train = []\n",
    "y_train = []\n",
    "for i in range(60, 127):\n",
    "    X_train.append(training_set_scaled[i-60:i, 0])\n",
    "    y_train.append(training_set_scaled[i, 0])\n",
    "X_train, y_train = np.array(X_train), np.array(y_train)\n",
    "print(X_train.shape, y_train.shape)\n",
    "X_train = np.reshape(X_train, (X_train.shape[0], X_train.shape[1], 1))\n",
    "print(X_train.shape, y_train.shape)\n"
   ]
  },
  {
   "cell_type": "code",
   "execution_count": 10,
   "metadata": {},
   "outputs": [
    {
     "name": "stderr",
     "output_type": "stream",
     "text": [
      "2023-01-27 15:43:18.028755: I tensorflow/core/platform/cpu_feature_guard.cc:193] This TensorFlow binary is optimized with oneAPI Deep Neural Network Library (oneDNN) to use the following CPU instructions in performance-critical operations:  AVX2 AVX512F FMA\n",
      "To enable them in other operations, rebuild TensorFlow with the appropriate compiler flags.\n",
      "2023-01-27 15:43:21.346678: W tensorflow/compiler/xla/stream_executor/platform/default/dso_loader.cc:64] Could not load dynamic library 'libcudart.so.11.0'; dlerror: libcudart.so.11.0: cannot open shared object file: No such file or directory\n",
      "2023-01-27 15:43:21.346712: I tensorflow/compiler/xla/stream_executor/cuda/cudart_stub.cc:29] Ignore above cudart dlerror if you do not have a GPU set up on your machine.\n",
      "2023-01-27 15:43:29.298295: W tensorflow/compiler/xla/stream_executor/platform/default/dso_loader.cc:64] Could not load dynamic library 'libnvinfer.so.7'; dlerror: libnvinfer.so.7: cannot open shared object file: No such file or directory\n",
      "2023-01-27 15:43:29.302728: W tensorflow/compiler/xla/stream_executor/platform/default/dso_loader.cc:64] Could not load dynamic library 'libnvinfer_plugin.so.7'; dlerror: libnvinfer_plugin.so.7: cannot open shared object file: No such file or directory\n",
      "2023-01-27 15:43:29.302751: W tensorflow/compiler/tf2tensorrt/utils/py_utils.cc:38] TF-TRT Warning: Cannot dlopen some TensorRT libraries. If you would like to use Nvidia GPU with TensorRT, please make sure the missing libraries mentioned above are installed properly.\n"
     ]
    }
   ],
   "source": [
    "from keras.models import Sequential\n",
    "from keras.layers import LSTM\n",
    "from keras.layers import Dropout\n",
    "from keras.layers import Dense"
   ]
  },
  {
   "cell_type": "code",
   "execution_count": 11,
   "metadata": {},
   "outputs": [
    {
     "name": "stderr",
     "output_type": "stream",
     "text": [
      "2023-01-27 15:43:33.148919: W tensorflow/compiler/xla/stream_executor/platform/default/dso_loader.cc:64] Could not load dynamic library 'libcuda.so.1'; dlerror: libcuda.so.1: cannot open shared object file: No such file or directory\n",
      "2023-01-27 15:43:33.156395: W tensorflow/compiler/xla/stream_executor/cuda/cuda_driver.cc:265] failed call to cuInit: UNKNOWN ERROR (303)\n",
      "2023-01-27 15:43:33.156448: I tensorflow/compiler/xla/stream_executor/cuda/cuda_diagnostics.cc:156] kernel driver does not appear to be running on this host (codespaces-2686da): /proc/driver/nvidia/version does not exist\n",
      "2023-01-27 15:43:33.216008: I tensorflow/core/platform/cpu_feature_guard.cc:193] This TensorFlow binary is optimized with oneAPI Deep Neural Network Library (oneDNN) to use the following CPU instructions in performance-critical operations:  AVX2 AVX512F FMA\n",
      "To enable them in other operations, rebuild TensorFlow with the appropriate compiler flags.\n"
     ]
    }
   ],
   "source": [
    "model = Sequential()\n",
    "model.add(LSTM(units=50,return_sequences=True,input_shape=(X_train.shape[1], 1)))\n",
    "model.add(Dropout(0.2))\n",
    "model.add(LSTM(units=50,return_sequences=True))\n",
    "model.add(Dropout(0.2))\n",
    "model.add(LSTM(units=50,return_sequences=True))\n",
    "model.add(Dropout(0.2))\n",
    "model.add(LSTM(units=50))\n",
    "model.add(Dropout(0.2))\n",
    "model.add(Dense(units=1))\n",
    "model.compile(optimizer='adam',loss='mean_squared_error')"
   ]
  },
  {
   "cell_type": "code",
   "execution_count": 12,
   "metadata": {},
   "outputs": [
    {
     "name": "stdout",
     "output_type": "stream",
     "text": [
      "Model: \"sequential\"\n",
      "_________________________________________________________________\n",
      " Layer (type)                Output Shape              Param #   \n",
      "=================================================================\n",
      " lstm (LSTM)                 (None, 60, 50)            10400     \n",
      "                                                                 \n",
      " dropout (Dropout)           (None, 60, 50)            0         \n",
      "                                                                 \n",
      " lstm_1 (LSTM)               (None, 60, 50)            20200     \n",
      "                                                                 \n",
      " dropout_1 (Dropout)         (None, 60, 50)            0         \n",
      "                                                                 \n",
      " lstm_2 (LSTM)               (None, 60, 50)            20200     \n",
      "                                                                 \n",
      " dropout_2 (Dropout)         (None, 60, 50)            0         \n",
      "                                                                 \n",
      " lstm_3 (LSTM)               (None, 50)                20200     \n",
      "                                                                 \n",
      " dropout_3 (Dropout)         (None, 50)                0         \n",
      "                                                                 \n",
      " dense (Dense)               (None, 1)                 51        \n",
      "                                                                 \n",
      "=================================================================\n",
      "Total params: 71,051\n",
      "Trainable params: 71,051\n",
      "Non-trainable params: 0\n",
      "_________________________________________________________________\n"
     ]
    }
   ],
   "source": [
    "model.summary()"
   ]
  },
  {
   "cell_type": "code",
   "execution_count": null,
   "metadata": {},
   "outputs": [],
   "source": []
  },
  {
   "attachments": {},
   "cell_type": "markdown",
   "metadata": {},
   "source": [
    "# Training"
   ]
  },
  {
   "cell_type": "code",
   "execution_count": 24,
   "metadata": {},
   "outputs": [
    {
     "name": "stdout",
     "output_type": "stream",
     "text": [
      "Epoch 1/100\n",
      "3/3 [==============================] - 0s 80ms/step - loss: 0.0131\n",
      "Epoch 2/100\n",
      "3/3 [==============================] - 0s 95ms/step - loss: 0.0096\n",
      "Epoch 3/100\n",
      "3/3 [==============================] - 0s 77ms/step - loss: 0.0112\n",
      "Epoch 4/100\n",
      "3/3 [==============================] - 0s 78ms/step - loss: 0.0142\n",
      "Epoch 5/100\n",
      "3/3 [==============================] - 0s 77ms/step - loss: 0.0108\n",
      "Epoch 6/100\n",
      "3/3 [==============================] - 0s 78ms/step - loss: 0.0137\n",
      "Epoch 7/100\n",
      "3/3 [==============================] - 0s 83ms/step - loss: 0.0113\n",
      "Epoch 8/100\n",
      "3/3 [==============================] - 0s 80ms/step - loss: 0.0093\n",
      "Epoch 9/100\n",
      "3/3 [==============================] - 0s 107ms/step - loss: 0.0117\n",
      "Epoch 10/100\n",
      "3/3 [==============================] - 0s 82ms/step - loss: 0.0115\n",
      "Epoch 11/100\n",
      "3/3 [==============================] - 0s 76ms/step - loss: 0.0089\n",
      "Epoch 12/100\n",
      "3/3 [==============================] - 0s 81ms/step - loss: 0.0120\n",
      "Epoch 13/100\n",
      "3/3 [==============================] - 0s 81ms/step - loss: 0.0115\n",
      "Epoch 14/100\n",
      "3/3 [==============================] - 0s 79ms/step - loss: 0.0096\n",
      "Epoch 15/100\n",
      "3/3 [==============================] - 0s 75ms/step - loss: 0.0114\n",
      "Epoch 16/100\n",
      "3/3 [==============================] - 0s 79ms/step - loss: 0.0083\n",
      "Epoch 17/100\n",
      "3/3 [==============================] - 0s 76ms/step - loss: 0.0099\n",
      "Epoch 18/100\n",
      "3/3 [==============================] - 0s 76ms/step - loss: 0.0105\n",
      "Epoch 19/100\n",
      "3/3 [==============================] - 0s 80ms/step - loss: 0.0110\n",
      "Epoch 20/100\n",
      "3/3 [==============================] - 0s 78ms/step - loss: 0.0089\n",
      "Epoch 21/100\n",
      "3/3 [==============================] - 0s 77ms/step - loss: 0.0093\n",
      "Epoch 22/100\n",
      "3/3 [==============================] - 0s 104ms/step - loss: 0.0089\n",
      "Epoch 23/100\n",
      "3/3 [==============================] - 0s 78ms/step - loss: 0.0094\n",
      "Epoch 24/100\n",
      "3/3 [==============================] - 0s 82ms/step - loss: 0.0112\n",
      "Epoch 25/100\n",
      "3/3 [==============================] - 0s 77ms/step - loss: 0.0100\n",
      "Epoch 26/100\n",
      "3/3 [==============================] - 0s 136ms/step - loss: 0.0075\n",
      "Epoch 27/100\n",
      "3/3 [==============================] - 0s 78ms/step - loss: 0.0096\n",
      "Epoch 28/100\n",
      "3/3 [==============================] - 0s 83ms/step - loss: 0.0080\n",
      "Epoch 29/100\n",
      "3/3 [==============================] - 0s 107ms/step - loss: 0.0086\n",
      "Epoch 30/100\n",
      "3/3 [==============================] - 0s 82ms/step - loss: 0.0090\n",
      "Epoch 31/100\n",
      "3/3 [==============================] - 0s 78ms/step - loss: 0.0075\n",
      "Epoch 32/100\n",
      "3/3 [==============================] - 0s 81ms/step - loss: 0.0082\n",
      "Epoch 33/100\n",
      "3/3 [==============================] - 0s 78ms/step - loss: 0.0108\n",
      "Epoch 34/100\n",
      "3/3 [==============================] - 0s 77ms/step - loss: 0.0100\n",
      "Epoch 35/100\n",
      "3/3 [==============================] - 0s 76ms/step - loss: 0.0080\n",
      "Epoch 36/100\n",
      "3/3 [==============================] - 0s 78ms/step - loss: 0.0069\n",
      "Epoch 37/100\n",
      "3/3 [==============================] - 0s 76ms/step - loss: 0.0088\n",
      "Epoch 38/100\n",
      "3/3 [==============================] - 0s 83ms/step - loss: 0.0095\n",
      "Epoch 39/100\n",
      "3/3 [==============================] - 0s 76ms/step - loss: 0.0082\n",
      "Epoch 40/100\n",
      "3/3 [==============================] - 0s 77ms/step - loss: 0.0068\n",
      "Epoch 41/100\n",
      "3/3 [==============================] - 0s 83ms/step - loss: 0.0090\n",
      "Epoch 42/100\n",
      "3/3 [==============================] - 0s 81ms/step - loss: 0.0083\n",
      "Epoch 43/100\n",
      "3/3 [==============================] - 0s 77ms/step - loss: 0.0089\n",
      "Epoch 44/100\n",
      "3/3 [==============================] - 0s 76ms/step - loss: 0.0085\n",
      "Epoch 45/100\n",
      "3/3 [==============================] - 0s 77ms/step - loss: 0.0071\n",
      "Epoch 46/100\n",
      "3/3 [==============================] - 0s 99ms/step - loss: 0.0070\n",
      "Epoch 47/100\n",
      "3/3 [==============================] - 0s 78ms/step - loss: 0.0083\n",
      "Epoch 48/100\n",
      "3/3 [==============================] - 0s 86ms/step - loss: 0.0061\n",
      "Epoch 49/100\n",
      "3/3 [==============================] - 0s 79ms/step - loss: 0.0067\n",
      "Epoch 50/100\n",
      "3/3 [==============================] - 0s 85ms/step - loss: 0.0071\n",
      "Epoch 51/100\n",
      "3/3 [==============================] - 0s 80ms/step - loss: 0.0077\n",
      "Epoch 52/100\n",
      "3/3 [==============================] - 0s 79ms/step - loss: 0.0066\n",
      "Epoch 53/100\n",
      "3/3 [==============================] - 0s 76ms/step - loss: 0.0086\n",
      "Epoch 54/100\n",
      "3/3 [==============================] - 0s 95ms/step - loss: 0.0076\n",
      "Epoch 55/100\n",
      "3/3 [==============================] - 0s 79ms/step - loss: 0.0084\n",
      "Epoch 56/100\n",
      "3/3 [==============================] - 0s 78ms/step - loss: 0.0059\n",
      "Epoch 57/100\n",
      "3/3 [==============================] - 0s 78ms/step - loss: 0.0074\n",
      "Epoch 58/100\n",
      "3/3 [==============================] - 0s 77ms/step - loss: 0.0062\n",
      "Epoch 59/100\n",
      "3/3 [==============================] - 0s 81ms/step - loss: 0.0065\n",
      "Epoch 60/100\n",
      "3/3 [==============================] - 0s 76ms/step - loss: 0.0068\n",
      "Epoch 61/100\n",
      "3/3 [==============================] - 0s 83ms/step - loss: 0.0052\n",
      "Epoch 62/100\n",
      "3/3 [==============================] - 0s 91ms/step - loss: 0.0062\n",
      "Epoch 63/100\n",
      "3/3 [==============================] - 0s 77ms/step - loss: 0.0070\n",
      "Epoch 64/100\n",
      "3/3 [==============================] - 0s 75ms/step - loss: 0.0063\n",
      "Epoch 65/100\n",
      "3/3 [==============================] - 0s 81ms/step - loss: 0.0071\n",
      "Epoch 66/100\n",
      "3/3 [==============================] - 0s 135ms/step - loss: 0.0059\n",
      "Epoch 67/100\n",
      "3/3 [==============================] - 0s 83ms/step - loss: 0.0060\n",
      "Epoch 68/100\n",
      "3/3 [==============================] - 0s 76ms/step - loss: 0.0059\n",
      "Epoch 69/100\n",
      "3/3 [==============================] - 0s 76ms/step - loss: 0.0053\n",
      "Epoch 70/100\n",
      "3/3 [==============================] - 0s 112ms/step - loss: 0.0058\n",
      "Epoch 71/100\n",
      "3/3 [==============================] - 0s 78ms/step - loss: 0.0051\n",
      "Epoch 72/100\n",
      "3/3 [==============================] - 0s 78ms/step - loss: 0.0061\n",
      "Epoch 73/100\n",
      "3/3 [==============================] - 0s 78ms/step - loss: 0.0066\n",
      "Epoch 74/100\n",
      "3/3 [==============================] - 0s 76ms/step - loss: 0.0067\n",
      "Epoch 75/100\n",
      "3/3 [==============================] - 0s 77ms/step - loss: 0.0068\n",
      "Epoch 76/100\n",
      "3/3 [==============================] - 0s 78ms/step - loss: 0.0060\n",
      "Epoch 77/100\n",
      "3/3 [==============================] - 0s 79ms/step - loss: 0.0071\n",
      "Epoch 78/100\n",
      "3/3 [==============================] - 0s 96ms/step - loss: 0.0051\n",
      "Epoch 79/100\n",
      "3/3 [==============================] - 0s 77ms/step - loss: 0.0051\n",
      "Epoch 80/100\n",
      "3/3 [==============================] - 0s 90ms/step - loss: 0.0049\n",
      "Epoch 81/100\n",
      "3/3 [==============================] - 0s 80ms/step - loss: 0.0053\n",
      "Epoch 82/100\n",
      "3/3 [==============================] - 0s 81ms/step - loss: 0.0060\n",
      "Epoch 83/100\n",
      "3/3 [==============================] - 0s 78ms/step - loss: 0.0067\n",
      "Epoch 84/100\n",
      "3/3 [==============================] - 0s 78ms/step - loss: 0.0078\n",
      "Epoch 85/100\n",
      "3/3 [==============================] - 0s 79ms/step - loss: 0.0052\n",
      "Epoch 86/100\n",
      "3/3 [==============================] - 0s 95ms/step - loss: 0.0054\n",
      "Epoch 87/100\n",
      "3/3 [==============================] - 0s 85ms/step - loss: 0.0056\n",
      "Epoch 88/100\n",
      "3/3 [==============================] - 0s 80ms/step - loss: 0.0056\n",
      "Epoch 89/100\n",
      "3/3 [==============================] - 0s 80ms/step - loss: 0.0052\n",
      "Epoch 90/100\n",
      "3/3 [==============================] - 0s 94ms/step - loss: 0.0055\n",
      "Epoch 91/100\n",
      "3/3 [==============================] - 0s 84ms/step - loss: 0.0061\n",
      "Epoch 92/100\n",
      "3/3 [==============================] - 0s 78ms/step - loss: 0.0061\n",
      "Epoch 93/100\n",
      "3/3 [==============================] - 0s 78ms/step - loss: 0.0058\n",
      "Epoch 94/100\n",
      "3/3 [==============================] - 0s 95ms/step - loss: 0.0045\n",
      "Epoch 95/100\n",
      "3/3 [==============================] - 0s 78ms/step - loss: 0.0062\n",
      "Epoch 96/100\n",
      "3/3 [==============================] - 0s 77ms/step - loss: 0.0061\n",
      "Epoch 97/100\n",
      "3/3 [==============================] - 0s 81ms/step - loss: 0.0068\n",
      "Epoch 98/100\n",
      "3/3 [==============================] - 0s 82ms/step - loss: 0.0061\n",
      "Epoch 99/100\n",
      "3/3 [==============================] - 0s 86ms/step - loss: 0.0073\n",
      "Epoch 100/100\n",
      "3/3 [==============================] - 0s 80ms/step - loss: 0.0070\n"
     ]
    },
    {
     "data": {
      "text/plain": [
       "<keras.callbacks.History at 0x7f889e53cc40>"
      ]
     },
     "execution_count": 24,
     "metadata": {},
     "output_type": "execute_result"
    }
   ],
   "source": [
    "model.fit(X_train,y_train,epochs=100,batch_size=32)"
   ]
  },
  {
   "attachments": {},
   "cell_type": "markdown",
   "metadata": {},
   "source": [
    "## Predictions on Test set\n",
    "I take the next month for making predictions"
   ]
  },
  {
   "cell_type": "code",
   "execution_count": 25,
   "metadata": {},
   "outputs": [
    {
     "name": "stdout",
     "output_type": "stream",
     "text": [
      "[*********************100%***********************]  1 of 1 completed\n"
     ]
    }
   ],
   "source": [
    "dataset_test = yf.download(\"MSFT\", start=\"2022-12-28\", end=\"2023-01-27\") # poner un dia mas del actual"
   ]
  },
  {
   "cell_type": "code",
   "execution_count": 26,
   "metadata": {},
   "outputs": [
    {
     "data": {
      "text/html": [
       "<div>\n",
       "<style scoped>\n",
       "    .dataframe tbody tr th:only-of-type {\n",
       "        vertical-align: middle;\n",
       "    }\n",
       "\n",
       "    .dataframe tbody tr th {\n",
       "        vertical-align: top;\n",
       "    }\n",
       "\n",
       "    .dataframe thead th {\n",
       "        text-align: right;\n",
       "    }\n",
       "</style>\n",
       "<table border=\"1\" class=\"dataframe\">\n",
       "  <thead>\n",
       "    <tr style=\"text-align: right;\">\n",
       "      <th></th>\n",
       "      <th>Open</th>\n",
       "      <th>High</th>\n",
       "      <th>Low</th>\n",
       "      <th>Close</th>\n",
       "      <th>Adj Close</th>\n",
       "      <th>Volume</th>\n",
       "    </tr>\n",
       "    <tr>\n",
       "      <th>Date</th>\n",
       "      <th></th>\n",
       "      <th></th>\n",
       "      <th></th>\n",
       "      <th></th>\n",
       "      <th></th>\n",
       "      <th></th>\n",
       "    </tr>\n",
       "  </thead>\n",
       "  <tbody>\n",
       "    <tr>\n",
       "      <th>2022-12-28 00:00:00-05:00</th>\n",
       "      <td>236.889999</td>\n",
       "      <td>239.720001</td>\n",
       "      <td>234.169998</td>\n",
       "      <td>234.529999</td>\n",
       "      <td>234.529999</td>\n",
       "      <td>17457100</td>\n",
       "    </tr>\n",
       "    <tr>\n",
       "      <th>2022-12-29 00:00:00-05:00</th>\n",
       "      <td>235.649994</td>\n",
       "      <td>241.919998</td>\n",
       "      <td>235.649994</td>\n",
       "      <td>241.009995</td>\n",
       "      <td>241.009995</td>\n",
       "      <td>19770700</td>\n",
       "    </tr>\n",
       "    <tr>\n",
       "      <th>2022-12-30 00:00:00-05:00</th>\n",
       "      <td>238.210007</td>\n",
       "      <td>239.960007</td>\n",
       "      <td>236.660004</td>\n",
       "      <td>239.820007</td>\n",
       "      <td>239.820007</td>\n",
       "      <td>21930800</td>\n",
       "    </tr>\n",
       "    <tr>\n",
       "      <th>2023-01-03 00:00:00-05:00</th>\n",
       "      <td>243.080002</td>\n",
       "      <td>245.750000</td>\n",
       "      <td>237.399994</td>\n",
       "      <td>239.580002</td>\n",
       "      <td>239.580002</td>\n",
       "      <td>25740000</td>\n",
       "    </tr>\n",
       "    <tr>\n",
       "      <th>2023-01-04 00:00:00-05:00</th>\n",
       "      <td>232.279999</td>\n",
       "      <td>232.869995</td>\n",
       "      <td>225.960007</td>\n",
       "      <td>229.100006</td>\n",
       "      <td>229.100006</td>\n",
       "      <td>50623400</td>\n",
       "    </tr>\n",
       "  </tbody>\n",
       "</table>\n",
       "</div>"
      ],
      "text/plain": [
       "                                 Open        High         Low       Close  \\\n",
       "Date                                                                        \n",
       "2022-12-28 00:00:00-05:00  236.889999  239.720001  234.169998  234.529999   \n",
       "2022-12-29 00:00:00-05:00  235.649994  241.919998  235.649994  241.009995   \n",
       "2022-12-30 00:00:00-05:00  238.210007  239.960007  236.660004  239.820007   \n",
       "2023-01-03 00:00:00-05:00  243.080002  245.750000  237.399994  239.580002   \n",
       "2023-01-04 00:00:00-05:00  232.279999  232.869995  225.960007  229.100006   \n",
       "\n",
       "                            Adj Close    Volume  \n",
       "Date                                             \n",
       "2022-12-28 00:00:00-05:00  234.529999  17457100  \n",
       "2022-12-29 00:00:00-05:00  241.009995  19770700  \n",
       "2022-12-30 00:00:00-05:00  239.820007  21930800  \n",
       "2023-01-03 00:00:00-05:00  239.580002  25740000  \n",
       "2023-01-04 00:00:00-05:00  229.100006  50623400  "
      ]
     },
     "execution_count": 26,
     "metadata": {},
     "output_type": "execute_result"
    }
   ],
   "source": [
    "dataset_test.head()"
   ]
  },
  {
   "cell_type": "code",
   "execution_count": 27,
   "metadata": {},
   "outputs": [],
   "source": [
    "real_stock_price = dataset_test.iloc[:, 0:1].values"
   ]
  },
  {
   "cell_type": "code",
   "execution_count": 28,
   "metadata": {},
   "outputs": [
    {
     "data": {
      "text/plain": [
       "((20, 6), (230, 6))"
      ]
     },
     "execution_count": 28,
     "metadata": {},
     "output_type": "execute_result"
    }
   ],
   "source": [
    "dataset_test.shape, dataset_train.shape"
   ]
  },
  {
   "cell_type": "code",
   "execution_count": 29,
   "metadata": {},
   "outputs": [
    {
     "data": {
      "text/plain": [
       "(250,)"
      ]
     },
     "execution_count": 29,
     "metadata": {},
     "output_type": "execute_result"
    }
   ],
   "source": [
    "dataset_total = pd.concat((dataset_train['Open'], dataset_test['Open']), axis = 0)\n",
    "dataset_total.shape"
   ]
  },
  {
   "cell_type": "code",
   "execution_count": 30,
   "metadata": {},
   "outputs": [
    {
     "data": {
      "text/plain": [
       "(80,)"
      ]
     },
     "execution_count": 30,
     "metadata": {},
     "output_type": "execute_result"
    }
   ],
   "source": [
    "inputs = dataset_total[len(dataset_total) - len(dataset_test) - 60:].values\n",
    "inputs.shape"
   ]
  },
  {
   "cell_type": "code",
   "execution_count": 31,
   "metadata": {},
   "outputs": [
    {
     "data": {
      "text/plain": [
       "(80, 1)"
      ]
     },
     "execution_count": 31,
     "metadata": {},
     "output_type": "execute_result"
    }
   ],
   "source": [
    "inputs = inputs.reshape(-1,1)\n",
    "inputs = sc.transform(inputs)\n",
    "inputs.shape"
   ]
  },
  {
   "cell_type": "code",
   "execution_count": 32,
   "metadata": {},
   "outputs": [
    {
     "data": {
      "text/plain": [
       "(20, 60, 1)"
      ]
     },
     "execution_count": 32,
     "metadata": {},
     "output_type": "execute_result"
    }
   ],
   "source": [
    "X_test = []\n",
    "for i in range(60, 80):\n",
    "    X_test.append(inputs[i-60:i, 0])\n",
    "\n",
    "X_test = np.array(X_test)\n",
    "X_test = np.reshape(X_test, (X_test.shape[0], X_test.shape[1], 1))\n",
    "X_test.shape"
   ]
  },
  {
   "cell_type": "code",
   "execution_count": 33,
   "metadata": {},
   "outputs": [
    {
     "name": "stdout",
     "output_type": "stream",
     "text": [
      "1/1 [==============================] - 0s 36ms/step\n"
     ]
    }
   ],
   "source": [
    "predicted_stock_price = model.predict(X_test)\n",
    "predicted_stock_price = sc.inverse_transform(predicted_stock_price)"
   ]
  },
  {
   "cell_type": "code",
   "execution_count": 34,
   "metadata": {},
   "outputs": [
    {
     "data": {
      "image/png": "[encoded data removed]",
      "text/plain": [
       "<Figure size 640x480 with 1 Axes>"
      ]
     },
     "metadata": {},
     "output_type": "display_data"
    }
   ],
   "source": [
    "plt.plot(real_stock_price, color = 'black', label = 'MSFT Stock Price')\n",
    "plt.plot(predicted_stock_price, color = 'green', label = 'Predicted MSFT Stock Price')\n",
    "plt.title('MSFT Stock Price Prediction')\n",
    "plt.xlabel('Time')\n",
    "plt.ylabel('MSFT Stock Price')\n",
    "plt.legend()\n",
    "plt.show()"
   ]
  },
  {
   "cell_type": "code",
   "execution_count": null,
   "metadata": {},
   "outputs": [],
   "source": []
  }
 ],
 "metadata": {
  "kernelspec": {
   "display_name": "Python 3",
   "language": "python",
   "name": "python3"
  },
  "language_info": {
   "codemirror_mode": {
    "name": "ipython",
    "version": 3
   },
   "file_extension": ".py",
   "mimetype": "text/x-python",
   "name": "python",
   "nbconvert_exporter": "python",
   "pygments_lexer": "ipython3",
   "version": "3.10.4"
  },
  "orig_nbformat": 4,
  "vscode": {
   "interpreter": {
    "hash": "3ad933181bd8a04b432d3370b9dc3b0662ad032c4dfaa4e4f1596c548f763858"
   }
  }
 },
 "nbformat": 4,
 "nbformat_minor": 2
}
